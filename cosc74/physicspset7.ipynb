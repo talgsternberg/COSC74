{
 "cells": [
  {
   "cell_type": "code",
   "execution_count": 9,
   "id": "c68b7533",
   "metadata": {},
   "outputs": [
    {
     "name": "stdout",
     "output_type": "stream",
     "text": [
      "-876.9092814781706\n"
     ]
    }
   ],
   "source": [
    "a1 = 0.01691\n",
    "a2 = 0.01911\n",
    "a3 = 0.000763\n",
    "a4 = 0.10175\n",
    "a5 = 0.012\n",
    "def E1(A,Z):\n",
    "    energy_1 = (-a1*(A)) + (a2*(A**(2/3))) + (a3*((Z**2)/(A**(1/3)))) + (a4*(((A-Z)**2)/(A))) - (a5*(238**(-1/2)))\n",
    "    return energy_1\n",
    "\n",
    "def E2(A,Z):\n",
    "    energy_2 = (-a1*(A)) + (a2*(A**(2/3))) + (a3*((Z**2)/(A**(1/3)))) + (a4*(((A-Z)**2)/(A)))\n",
    "    return energy_2\n",
    "\n",
    "M83 = E2(83,36)\n",
    "M82 = E1(82,36)\n",
    "M81 = E2(81,36)\n",
    "M80 = E1(80,36)\n",
    "\n",
    "Mp = 1.007276466621\n",
    "Mn = 1.00866491595\n",
    "\n",
    "DM81 = (M81-M80-Mn)*931.5\n",
    "print(DM81)\n"
   ]
  },
  {
   "cell_type": "code",
   "execution_count": null,
   "id": "61c4a4d5",
   "metadata": {},
   "outputs": [],
   "source": []
  }
 ],
 "metadata": {
  "kernelspec": {
   "display_name": "Python 3 (ipykernel)",
   "language": "python",
   "name": "python3"
  },
  "language_info": {
   "codemirror_mode": {
    "name": "ipython",
    "version": 3
   },
   "file_extension": ".py",
   "mimetype": "text/x-python",
   "name": "python",
   "nbconvert_exporter": "python",
   "pygments_lexer": "ipython3",
   "version": "3.8.8"
  }
 },
 "nbformat": 4,
 "nbformat_minor": 5
}
