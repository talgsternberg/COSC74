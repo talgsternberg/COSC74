{
 "cells": [
  {
   "cell_type": "markdown",
   "metadata": {},
   "source": [
    "Please run the cell below to import libraries needed for this HW. Please use the autograd numpy, otherwise you will have issues. Please remember to always use the np library for mathematical functions (e.g., np.log, np.exp, np.sum, etc)"
   ]
  },
  {
   "cell_type": "code",
   "execution_count": 1,
   "metadata": {},
   "outputs": [],
   "source": [
    "import autograd.numpy as np\n",
    "from autograd import grad \n",
    "import matplotlib.pyplot as plt\n",
    "import math\n",
    "import pandas as pd\n",
    "import seaborn as sn"
   ]
  },
  {
   "cell_type": "markdown",
   "metadata": {},
   "source": [
    "Q1) [5 points] Implement the sigmod funcation discussed in class. The function takes a value, x, as input and returns the sigmoid function applied to the value."
   ]
  },
  {
   "cell_type": "code",
   "execution_count": 2,
   "metadata": {},
   "outputs": [],
   "source": [
    "def sigmoid(x):\n",
    "    y = 1/(1 + np.exp(-x))\n",
    "    return y"
   ]
  },
  {
   "cell_type": "markdown",
   "metadata": {},
   "source": [
    "Q2) [20 points] Implement the logistic regression model and the cross entropy cost discussed in class. Note that the logistic regression model relies on the sigmoid function (which you have implemented above) and the linear  model (which you have implemented in HW2). You can use the linear model from HW2 for this problem. Similar to the least-squares cost from HW2, the cross entropy cost takes in as input an array of weights, w, an array of x's and an array of ys and return a float indicating the total cost."
   ]
  },
  {
   "cell_type": "code",
   "execution_count": 3,
   "metadata": {},
   "outputs": [],
   "source": [
    "#Your linear model from HW2\n",
    "def model(x,w):\n",
    "    y_predicted = np.dot(x.T,w[1:])+w[0]  \n",
    "    return y_predicted\n",
    "\n",
    "\n",
    "#The logistic regression cross entropy cost\n",
    "def cross_entropy(w,x,y):\n",
    "    # calculate sigmoid\n",
    "    sig = sigmoid(model(x,w))\n",
    "    \n",
    "    # y=0 points cost\n",
    "    y_0 = np.argwhere(y == 0)[:,1]\n",
    "    cost = -np.sum(np.log(1 - sig[y_0]))\n",
    "    \n",
    "    # y=1 points cost\n",
    "    y_1 = np.argwhere(y==1)[:,1]\n",
    "    cost -= np.sum(np.log(sig[y_1]))\n",
    "    \n",
    "    # return cross entropy\n",
    "    return cost/y.size"
   ]
  },
  {
   "cell_type": "markdown",
   "metadata": {},
   "source": [
    "Q3) [2 points] Run the code below to read a data file. Plot a scatter plot of x vs y."
   ]
  },
  {
   "cell_type": "code",
   "execution_count": 4,
   "metadata": {},
   "outputs": [
    {
     "data": {
      "text/plain": [
       "<matplotlib.collections.PathCollection at 0x7fcaaafd86d0>"
      ]
     },
     "execution_count": 4,
     "metadata": {},
     "output_type": "execute_result"
    },
    {
     "data": {
      "image/png": "[encoded data removed]",
      "text/plain": [
       "<Figure size 432x288 with 1 Axes>"
      ]
     },
     "metadata": {
      "needs_background": "light"
     },
     "output_type": "display_data"
    }
   ],
   "source": [
    "csvname = '2d_classification_data_v1_entropy.csv'\n",
    "data = np.loadtxt(csvname,delimiter = ',')\n",
    "x = data[:-1,:]\n",
    "y = data[-1:,:] \n",
    "plt.scatter(x,y)"
   ]
  },
  {
   "cell_type": "markdown",
   "metadata": {},
   "source": [
    "Q4) [10 points] Move the gradient descent function from HW2. Run the function using the cross_entropy cost and the x and y from above. The parameters should be set to: max_its=2000,w=[3.0,3.0 ], and alpha=1. Save the cost and weight history returned by the gradient descent function. Plot the cost history.\n"
   ]
  },
  {
   "cell_type": "code",
   "execution_count": 5,
   "metadata": {},
   "outputs": [],
   "source": [
    "##gradient descent from HW2\n",
    "def gradient_descent(g,alpha,max_its,w,x,y):\n",
    "    gradient = grad(g)   ## This is how you use the autograd library to find the gradient of a function  \n",
    "    weight_history = [w]\n",
    "    starting_cost = g(w,x,y)\n",
    "    cost_history = [starting_cost]\n",
    "    for i in range(1,max_its):\n",
    "        # define a new and previous value using a step\n",
    "        step = gradient(w,x,y)\n",
    "        w = w - alpha*step\n",
    "        curr_cost = g(w,x,y)\n",
    "        weight_history.append(w)\n",
    "        cost_history.append(curr_cost)\n",
    "    return weight_history,cost_history"
   ]
  },
  {
   "cell_type": "code",
   "execution_count": 6,
   "metadata": {},
   "outputs": [
    {
     "data": {
      "text/plain": [
       "[<matplotlib.lines.Line2D at 0x7fcab8387310>]"
      ]
     },
     "execution_count": 6,
     "metadata": {},
     "output_type": "execute_result"
    },
    {
     "data": {
      "image/png": "[encoded data removed]",
      "text/plain": [
       "<Figure size 432x288 with 1 Axes>"
      ]
     },
     "metadata": {
      "needs_background": "light"
     },
     "output_type": "display_data"
    }
   ],
   "source": [
    "##Call the gradient_descent function here\n",
    "w = np.array([3.0,3.0])\n",
    "grad_desc = gradient_descent(cross_entropy, 1, 2000, w, x, y)\n",
    "##Plot the cost history here\n",
    "plt.plot(grad_desc[1])"
   ]
  },
  {
   "cell_type": "markdown",
   "metadata": {},
   "source": [
    "Q5) [10 points] Implement a logistic regression classifier that takes in the learned weights and x as input and returns the probability of the positive class (note that this is just the output of the sigmoid applied to the linear combination of the x and w)"
   ]
  },
  {
   "cell_type": "code",
   "execution_count": 7,
   "metadata": {},
   "outputs": [],
   "source": [
    "def logistic_regression(learned_w,x):\n",
    "    y = model(x,learned_w)\n",
    "    positive_class_prob = sigmoid(y)\n",
    "    return positive_class_prob"
   ]
  },
  {
   "cell_type": "markdown",
   "metadata": {},
   "source": [
    "Q6) [5 points] Use the learned weights from the last gradient descent run and the logistic regression function implemented above to plot the learned curve. You can use the linspace method (shown below) to generate a list of xs that you can use. You need to generate a y for each of the candidate xs using the logistic regression function and the learned weights. On the same figure, also plot the scatter plot from Q3. \n"
   ]
  },
  {
   "cell_type": "code",
   "execution_count": 8,
   "metadata": {},
   "outputs": [
    {
     "name": "stdout",
     "output_type": "stream",
     "text": [
      "[[-0.12945952  0.17126776  0.18900687  0.62817746  0.98698383  1.1\n",
      "   1.4         4.          4.3         4.5         4.7       ]]\n"
     ]
    },
    {
     "data": {
      "text/plain": [
       "[<matplotlib.lines.Line2D at 0x7fca996ef040>]"
      ]
     },
     "execution_count": 8,
     "metadata": {},
     "output_type": "execute_result"
    },
    {
     "data": {
      "image/png": "[encoded data removed]",
      "text/plain": [
       "<Figure size 432x288 with 1 Axes>"
      ]
     },
     "metadata": {
      "needs_background": "light"
     },
     "output_type": "display_data"
    }
   ],
   "source": [
    "s = np.linspace(np.min(x),np.max(x))\n",
    "print(x)\n",
    "s_new = np.array((s[0]))\n",
    "y_pred = logistic_regression(grad_desc[0][-1], x)\n",
    "plt.scatter(x,y)\n",
    "plt.plot(x[0],y_pred,\"red\")"
   ]
  },
  {
   "cell_type": "markdown",
   "metadata": {},
   "source": [
    "Q7) [5 points] Slightly modify the logistic regression model above so that it returns a 1 or 0 based on the specified threshold."
   ]
  },
  {
   "cell_type": "code",
   "execution_count": 9,
   "metadata": {},
   "outputs": [],
   "source": [
    "def logistic_regression_modified(learned_w,x, threshold):\n",
    "    # linearly combine\n",
    "    y = model(x,learned_w)\n",
    "    # calculate class prob\n",
    "    positive_class_prob = sigmoid(y)\n",
    "    class_label = []\n",
    "    for prob in positive_class_prob:\n",
    "        if prob >= threshold: class_label.append(1)\n",
    "        if prob < threshold: class_label.append(0)\n",
    "    return np.array(class_label)"
   ]
  },
  {
   "cell_type": "markdown",
   "metadata": {},
   "source": [
    "Q8) [15 points] Write a function (called evaluate) that takes in actual and predicted ys (for a binary classification problem) and return a confusion matrix and the accuracy. Use the modified logistic regression model and the evaluate function below to report the confusion matrix and accuracy for the x and y used for our training at a threshold of 0.5.  "
   ]
  },
  {
   "cell_type": "code",
   "execution_count": 10,
   "metadata": {},
   "outputs": [
    {
     "name": "stdout",
     "output_type": "stream",
     "text": [
      "y_pred:\n",
      "[0 0 0 0 0 1 1 1 1 1 1]\n",
      "y_actual:\n",
      "[0 0 0 0 0 1 1 1 1 1 1]\n",
      "length of pred\n",
      "11\n",
      "length of actual\n",
      "11\n",
      "Confusion matrix : \n",
      " [[6 0]\n",
      " [0 5]]\n",
      "The evaluation: \n",
      "(0.0, 0.0, 1.0, 1.0, 1.0)\n"
     ]
    }
   ],
   "source": [
    "from sklearn.metrics import confusion_matrix\n",
    "\n",
    "def evaluate(y_actual,y_pred):\n",
    "    # confusion matrix\n",
    "    confusion_matrix_output = confusion_matrix(y_actual,y_pred, labels=[1,0])\n",
    "    print('Confusion matrix : \\n',confusion_matrix_output)\n",
    "    \n",
    "    tp = confusion_matrix_output[1][1]\n",
    "    tn = confusion_matrix_output[0][0]\n",
    "    fp = confusion_matrix_output[0][1]\n",
    "    fn = confusion_matrix_output[1][0]\n",
    "    \n",
    "    # false positives and negatives\n",
    "    false_positive = fp/(fp+tn)\n",
    "    false_negative = fn/(fn+tp)\n",
    "    \n",
    "    # true positives and negatives\n",
    "    true_positive = tp/(tp+fn)\n",
    "    true_negative = tn/(tn+fp)\n",
    "    \n",
    "    # Overall accuracy\n",
    "    accuracy = (tp+tn)/(tp+fp+fn+tn)\n",
    "    print(\"The evaluation: \")\n",
    "    # return all \n",
    "    return false_positive, false_negative, true_positive, true_negative, accuracy\n",
    "\n",
    "\n",
    "\n",
    "\n",
    "# get y predicted\n",
    "y_pred = logistic_regression_modified(grad_desc[0][-1], x, 0.5)\n",
    "\n",
    "# get y as an array of the correct types\n",
    "y_actual_list = []\n",
    "for val in y[0]:\n",
    "    y_actual_list.append(int(val))\n",
    "y_actual = np.array(y_actual_list)\n",
    "\n",
    "print(\"y_pred:\")\n",
    "print(y_pred)\n",
    "print(\"y_actual:\")\n",
    "print(y_actual)\n",
    "print(\"length of pred\")\n",
    "print(len(y_pred))\n",
    "print(\"length of actual\")\n",
    "print(len(y_actual))\n",
    "\n",
    "\n",
    "# plug in and evaluate\n",
    "print(evaluate(y_actual,y_pred))\n",
    "\n",
    "## training and testing on the same set!!\n"
   ]
  },
  {
   "cell_type": "markdown",
   "metadata": {},
   "source": [
    "Q9) [20 points] Implement the perceptron cost function from the class (the softmax version). Note that the perceptron cost also uses the linear model (the model function from question 2)."
   ]
  },
  {
   "cell_type": "code",
   "execution_count": 27,
   "metadata": {},
   "outputs": [],
   "source": [
    "def new_sigmoid(x):\n",
    "    sig_val = (2/(1 + np.exp(-x)))-1\n",
    "    return sig_val\n",
    "\n",
    "def perceptron_cost(w,x,y):\n",
    "    y_predicted = model(x,w)\n",
    "    cost = 0\n",
    "    for i in range(y_predicted.size):\n",
    "        cost += np.log(1 + np.exp(-y[0][i]*y_predicted[i]))\n",
    "    \n",
    "    cost /= y_predicted.size\n",
    "    return cost\n",
    "\n",
    "def perceptron_cost2(w,x,y):\n",
    "    # get new y values\n",
    "    y[y==0] = -1\n",
    "    \n",
    "    # calculate sigmoid\n",
    "    sig = new_sigmoid(model(x,w))\n",
    "    \n",
    "    # y=-1 points cost\n",
    "    y_neg = np.argwhere(y == -1)[:,1]\n",
    "    cost = -np.sum(np.log(1 - sig[y_neg]))\n",
    "    \n",
    "    # y=1 points cost\n",
    "    y_pos = np.argwhere(y==1)[:,1]\n",
    "    cost -= np.sum(np.log(sig[y_pos]))\n",
    "    \n",
    "    # return cross entropy\n",
    "    return cost/y.size"
   ]
  },
  {
   "cell_type": "markdown",
   "metadata": {},
   "source": [
    "Q10) [10 points] Run gradient descent function using the perceptron cost and the x and y from above and the parameters set to: max_its=2000,w=[1.0,1.0], and alpha=1.0. Save the cost and weight history returned by the gradient descent function. Plot the cost history. Which cost seems to do better on this dataset? Why do think that is?\n",
    "This appears to be a better fit than the cross entropy cost because the overall loss is better and it is able to produce a better fit!"
   ]
  },
  {
   "cell_type": "code",
   "execution_count": 29,
   "metadata": {},
   "outputs": [
    {
     "data": {
      "text/plain": [
       "[<matplotlib.lines.Line2D at 0x7fca780a2cd0>]"
      ]
     },
     "execution_count": 29,
     "metadata": {},
     "output_type": "execute_result"
    },
    {
     "data": {
      "image/png": "[encoded data removed]",
      "text/plain": [
       "<Figure size 432x288 with 1 Axes>"
      ]
     },
     "metadata": {
      "needs_background": "light"
     },
     "output_type": "display_data"
    }
   ],
   "source": [
    "##Call the gradient_descent function here\n",
    "\n",
    "# reload the data because it got messed up somehow\n",
    "csvname = '2d_classification_data_v1_entropy.csv'\n",
    "data = np.loadtxt(csvname,delimiter = ',')\n",
    "x = data[:-1,:]\n",
    "y = data[-1:,:] \n",
    "w_10 = np.array([1.0,1.0])\n",
    "percep_gd = gradient_descent(perceptron_cost,1.0,2000,w_10,x,y)\n",
    "\n",
    "##Plot the cost history here\n",
    "plt.plot(percep_gd[1])"
   ]
  },
  {
   "cell_type": "markdown",
   "metadata": {},
   "source": [
    "## The rest of these problems are for bonus points"
   ]
  },
  {
   "cell_type": "markdown",
   "metadata": {},
   "source": [
    "Q11) [2 points]  The file 'heart.csv' has 304 lines, each one corresponding to a data point. Each row (i.e., data point), has several columns. Read the data file. Note that the first line is the header describing each column."
   ]
  },
  {
   "cell_type": "code",
   "execution_count": 13,
   "metadata": {},
   "outputs": [],
   "source": [
    "col_list = [\"age\", \"sex\", \"cp\", \"trestbps\", \"chol\", \"fbs\", \"restecg\", \"thalach\", \"exang\", \"oldpeak\", \"slope\", \"ca\", \"thal\", \"target\"]\n",
    "heart = pd.read_csv(\"heart.csv\", usecols=col_list)"
   ]
  },
  {
   "cell_type": "markdown",
   "metadata": {},
   "source": [
    "Q12) [2 points] Use the data above to set y to be the \"target\" and X to be the remaining columns."
   ]
  },
  {
   "cell_type": "code",
   "execution_count": 14,
   "metadata": {},
   "outputs": [],
   "source": [
    "X = heart[[\"age\", \"sex\", \"cp\", \"trestbps\", \"chol\", \"fbs\", \"restecg\", \"thalach\", \"exang\", \"oldpeak\", \"slope\", \"ca\", \"thal\"]]\n",
    "y = heart[\"target\"]"
   ]
  },
  {
   "cell_type": "markdown",
   "metadata": {},
   "source": [
    "Q13) [2 points] Run the code below to import the logistic regression and the train_test split functions from sklearn. Split your data into 80% train 20% test."
   ]
  },
  {
   "cell_type": "code",
   "execution_count": 15,
   "metadata": {},
   "outputs": [],
   "source": [
    "from sklearn.linear_model import LogisticRegression\n",
    "from sklearn.model_selection import train_test_split \n",
    "\n",
    "X_train, X_test, y_train, y_test = train_test_split(X, y, test_size = 0.2)"
   ]
  },
  {
   "cell_type": "markdown",
   "metadata": {},
   "source": [
    "Q14) [5 points] Use sklearn to fit a logistic regression model on your training set. Use all the default parameter. Do not evaluate at this point. (You can find out about sklearn logistic regression here: https://scikit-learn.org/stable/modules/generated/sklearn.linear_model.LogisticRegression.html)"
   ]
  },
  {
   "cell_type": "code",
   "execution_count": 16,
   "metadata": {},
   "outputs": [],
   "source": [
    "# instantiate the model\n",
    "logreg = LogisticRegression(max_iter=1000)\n",
    "\n",
    "# fit the model training\n",
    "clf = logreg.fit(X_train,y_train)"
   ]
  },
  {
   "cell_type": "markdown",
   "metadata": {},
   "source": [
    "Q15) [5 points] Use the .predict_proba function of the logistic regression model that you have learned on your X_test. Note that the .predict_proba function returns an array of tuples where each element corresponds to the predicted probability for class 0 and 1 of the data point."
   ]
  },
  {
   "cell_type": "code",
   "execution_count": 17,
   "metadata": {},
   "outputs": [],
   "source": [
    "prob = clf.predict_proba(X_test)"
   ]
  },
  {
   "cell_type": "markdown",
   "metadata": {},
   "source": [
    "Q16) [2 points] Filter the predicted probabilties from the last question to an array containing only the probabilites for class 1. I.e., you should no longer have tuples."
   ]
  },
  {
   "cell_type": "code",
   "execution_count": 18,
   "metadata": {},
   "outputs": [],
   "source": [
    "class_1_prob = []\n",
    "for tuple in prob:\n",
    "    class_1_prob.append(tuple[1])"
   ]
  },
  {
   "cell_type": "markdown",
   "metadata": {},
   "source": [
    "Q17) [8 points] Use the roc_curve function from sklearn (https://scikit-learn.org/stable/modules/generated/sklearn.metrics.roc_curve.html) to plot the ROC curve for your predictions using the predicted probabilities for class 1 and your y_test (use the default parameters). Also, print out the thresholds generated by the roc_curve function."
   ]
  },
  {
   "cell_type": "code",
   "execution_count": 19,
   "metadata": {},
   "outputs": [],
   "source": [
    "##Your code here"
   ]
  },
  {
   "cell_type": "markdown",
   "metadata": {},
   "source": [
    "Q18) [2 points] Use the roc_auc_score function from sklearn (https://scikit-learn.org/stable/modules/generated/sklearn.metrics.roc_auc_score.html#sklearn.metrics.roc_auc_score) to report the AUC score using the exact same setup as the last question."
   ]
  },
  {
   "cell_type": "code",
   "execution_count": 20,
   "metadata": {},
   "outputs": [],
   "source": [
    "##Your code here"
   ]
  }
 ],
 "metadata": {
  "kernelspec": {
   "display_name": "Python 3 (ipykernel)",
   "language": "python",
   "name": "python3"
  },
  "language_info": {
   "codemirror_mode": {
    "name": "ipython",
    "version": 3
   },
   "file_extension": ".py",
   "mimetype": "text/x-python",
   "name": "python",
   "nbconvert_exporter": "python",
   "pygments_lexer": "ipython3",
   "version": "3.8.8"
  }
 },
 "nbformat": 4,
 "nbformat_minor": 2
}
