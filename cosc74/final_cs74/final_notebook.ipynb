{
 "cells": [
  {
   "cell_type": "markdown",
   "id": "c5c5dda4",
   "metadata": {},
   "source": [
    "# Final Project COSC74\n",
    "## Tal Sternberg "
   ]
  },
  {
   "cell_type": "code",
   "execution_count": 1,
   "id": "b9f21eb7",
   "metadata": {},
   "outputs": [],
   "source": [
    "# imports\n",
    "import autograd.numpy as np\n",
    "from autograd import grad \n",
    "import matplotlib.pyplot as plt\n",
    "import math\n",
    "import pandas as pd\n",
    "import seaborn as sn\n",
    "import csv"
   ]
  },
  {
   "cell_type": "markdown",
   "id": "cdac5734",
   "metadata": {},
   "source": [
    "# Setting up the Data"
   ]
  },
  {
   "cell_type": "code",
   "execution_count": 2,
   "id": "0babb5a3",
   "metadata": {},
   "outputs": [
    {
     "data": {
      "text/html": [
       "<div>\n",
       "<style scoped>\n",
       "    .dataframe tbody tr th:only-of-type {\n",
       "        vertical-align: middle;\n",
       "    }\n",
       "\n",
       "    .dataframe tbody tr th {\n",
       "        vertical-align: top;\n",
       "    }\n",
       "\n",
       "    .dataframe thead th {\n",
       "        text-align: right;\n",
       "    }\n",
       "</style>\n",
       "<table border=\"1\" class=\"dataframe\">\n",
       "  <thead>\n",
       "    <tr style=\"text-align: right;\">\n",
       "      <th></th>\n",
       "      <th>overall</th>\n",
       "      <th>verified</th>\n",
       "      <th>reviewTime</th>\n",
       "      <th>reviewerID</th>\n",
       "      <th>asin</th>\n",
       "      <th>reviewerName</th>\n",
       "      <th>reviewText</th>\n",
       "      <th>summary</th>\n",
       "      <th>unixReviewTime</th>\n",
       "      <th>vote</th>\n",
       "      <th>image</th>\n",
       "      <th>style</th>\n",
       "      <th>category</th>\n",
       "    </tr>\n",
       "  </thead>\n",
       "  <tbody>\n",
       "    <tr>\n",
       "      <th>0</th>\n",
       "      <td>1</td>\n",
       "      <td>False</td>\n",
       "      <td>11 12, 2016</td>\n",
       "      <td>C413C78E10E54C5DB41837889F36C1E8</td>\n",
       "      <td>565D194F38B1CC3F806EE677C61F639C</td>\n",
       "      <td>465E154EC79AFFAB5EB2607198B21433</td>\n",
       "      <td>all of the reviews for this product are fake.</td>\n",
       "      <td>All fake reviews, beware.</td>\n",
       "      <td>1478908800</td>\n",
       "      <td>2.0</td>\n",
       "      <td>NaN</td>\n",
       "      <td>{'Size:': ' Polaris H4'}</td>\n",
       "      <td>automotive</td>\n",
       "    </tr>\n",
       "    <tr>\n",
       "      <th>1</th>\n",
       "      <td>1</td>\n",
       "      <td>True</td>\n",
       "      <td>12 6, 2016</td>\n",
       "      <td>490AE37808EFEE3AF4FE6DEBDEB5A4C8</td>\n",
       "      <td>0D66512A0A7F580523AB996378DF0F14</td>\n",
       "      <td>760C63E8E5E8DC3FAA01878D37BA5678</td>\n",
       "      <td>wrong part. our fault.</td>\n",
       "      <td>One Star</td>\n",
       "      <td>1480982400</td>\n",
       "      <td>NaN</td>\n",
       "      <td>NaN</td>\n",
       "      <td>NaN</td>\n",
       "      <td>automotive</td>\n",
       "    </tr>\n",
       "    <tr>\n",
       "      <th>2</th>\n",
       "      <td>1</td>\n",
       "      <td>True</td>\n",
       "      <td>09 17, 2014</td>\n",
       "      <td>74A9FA5A64449BEE2A2E8E3F62872F0F</td>\n",
       "      <td>A0E45600FF2C5A779CB4314F379C253A</td>\n",
       "      <td>C6E4DD5C1C4EC09E90182644ED6CA9EF</td>\n",
       "      <td>this wire set it really sucks!!!</td>\n",
       "      <td>One Star</td>\n",
       "      <td>1410912000</td>\n",
       "      <td>NaN</td>\n",
       "      <td>NaN</td>\n",
       "      <td>NaN</td>\n",
       "      <td>automotive</td>\n",
       "    </tr>\n",
       "    <tr>\n",
       "      <th>3</th>\n",
       "      <td>1</td>\n",
       "      <td>True</td>\n",
       "      <td>06 11, 2016</td>\n",
       "      <td>EB561158A2829D98B467FE03CC1E45F1</td>\n",
       "      <td>37AB9A82470595E0ACB88BAC48C150EE</td>\n",
       "      <td>F4892A77EA45C52F40AB17ED537EF9FF</td>\n",
       "      <td>first use, it leaked instantly. even at 5 buck...</td>\n",
       "      <td>One Star</td>\n",
       "      <td>1465603200</td>\n",
       "      <td>NaN</td>\n",
       "      <td>NaN</td>\n",
       "      <td>{'Color:': ' Clear', 'Style:': ' 45 Degree'}</td>\n",
       "      <td>automotive</td>\n",
       "    </tr>\n",
       "    <tr>\n",
       "      <th>4</th>\n",
       "      <td>1</td>\n",
       "      <td>True</td>\n",
       "      <td>12 23, 2017</td>\n",
       "      <td>5045D801332850D21618DD13A697CD9B</td>\n",
       "      <td>5772FF30428EEB8E0258C1A53CA2EC50</td>\n",
       "      <td>522F0BBFF2B47F1D63FF781A0AB1D079</td>\n",
       "      <td>didn't fit</td>\n",
       "      <td>One Star</td>\n",
       "      <td>1513987200</td>\n",
       "      <td>NaN</td>\n",
       "      <td>NaN</td>\n",
       "      <td>NaN</td>\n",
       "      <td>automotive</td>\n",
       "    </tr>\n",
       "  </tbody>\n",
       "</table>\n",
       "</div>"
      ],
      "text/plain": [
       "   overall  verified   reviewTime                        reviewerID  \\\n",
       "0        1     False  11 12, 2016  C413C78E10E54C5DB41837889F36C1E8   \n",
       "1        1      True   12 6, 2016  490AE37808EFEE3AF4FE6DEBDEB5A4C8   \n",
       "2        1      True  09 17, 2014  74A9FA5A64449BEE2A2E8E3F62872F0F   \n",
       "3        1      True  06 11, 2016  EB561158A2829D98B467FE03CC1E45F1   \n",
       "4        1      True  12 23, 2017  5045D801332850D21618DD13A697CD9B   \n",
       "\n",
       "                               asin                      reviewerName  \\\n",
       "0  565D194F38B1CC3F806EE677C61F639C  465E154EC79AFFAB5EB2607198B21433   \n",
       "1  0D66512A0A7F580523AB996378DF0F14  760C63E8E5E8DC3FAA01878D37BA5678   \n",
       "2  A0E45600FF2C5A779CB4314F379C253A  C6E4DD5C1C4EC09E90182644ED6CA9EF   \n",
       "3  37AB9A82470595E0ACB88BAC48C150EE  F4892A77EA45C52F40AB17ED537EF9FF   \n",
       "4  5772FF30428EEB8E0258C1A53CA2EC50  522F0BBFF2B47F1D63FF781A0AB1D079   \n",
       "\n",
       "                                          reviewText  \\\n",
       "0      all of the reviews for this product are fake.   \n",
       "1                             wrong part. our fault.   \n",
       "2                   this wire set it really sucks!!!   \n",
       "3  first use, it leaked instantly. even at 5 buck...   \n",
       "4                                         didn't fit   \n",
       "\n",
       "                     summary  unixReviewTime  vote image  \\\n",
       "0  All fake reviews, beware.      1478908800   2.0   NaN   \n",
       "1                   One Star      1480982400   NaN   NaN   \n",
       "2                   One Star      1410912000   NaN   NaN   \n",
       "3                   One Star      1465603200   NaN   NaN   \n",
       "4                   One Star      1513987200   NaN   NaN   \n",
       "\n",
       "                                          style    category  \n",
       "0                      {'Size:': ' Polaris H4'}  automotive  \n",
       "1                                           NaN  automotive  \n",
       "2                                           NaN  automotive  \n",
       "3  {'Color:': ' Clear', 'Style:': ' 45 Degree'}  automotive  \n",
       "4                                           NaN  automotive  "
      ]
     },
     "execution_count": 2,
     "metadata": {},
     "output_type": "execute_result"
    }
   ],
   "source": [
    "# open the files and read\n",
    "df_train=pd.read_csv('Train.csv')\n",
    "df_test=pd.read_csv('Test.csv') \n",
    "df_train.head()"
   ]
  },
  {
   "cell_type": "code",
   "execution_count": 3,
   "id": "ffec6588",
   "metadata": {},
   "outputs": [
    {
     "data": {
      "text/html": [
       "<div>\n",
       "<style scoped>\n",
       "    .dataframe tbody tr th:only-of-type {\n",
       "        vertical-align: middle;\n",
       "    }\n",
       "\n",
       "    .dataframe tbody tr th {\n",
       "        vertical-align: top;\n",
       "    }\n",
       "\n",
       "    .dataframe thead th {\n",
       "        text-align: right;\n",
       "    }\n",
       "</style>\n",
       "<table border=\"1\" class=\"dataframe\">\n",
       "  <thead>\n",
       "    <tr style=\"text-align: right;\">\n",
       "      <th></th>\n",
       "      <th>verified</th>\n",
       "      <th>reviewTime</th>\n",
       "      <th>reviewerID</th>\n",
       "      <th>asin</th>\n",
       "      <th>reviewerName</th>\n",
       "      <th>reviewText</th>\n",
       "      <th>summary</th>\n",
       "      <th>unixReviewTime</th>\n",
       "      <th>vote</th>\n",
       "      <th>image</th>\n",
       "      <th>style</th>\n",
       "      <th>category</th>\n",
       "    </tr>\n",
       "  </thead>\n",
       "  <tbody>\n",
       "    <tr>\n",
       "      <th>0</th>\n",
       "      <td>True</td>\n",
       "      <td>07 23, 2015</td>\n",
       "      <td>28EA11D68FB7FF05B5ABB5989B0EDDD2</td>\n",
       "      <td>2CC19105CB9E7E4C30B1A399F3BFA181</td>\n",
       "      <td>B468F2974AA56619CF81B9DB66277892</td>\n",
       "      <td>ordered 318c and receive the 303c. my bad. i d...</td>\n",
       "      <td>Wrong filter</td>\n",
       "      <td>1437609600</td>\n",
       "      <td></td>\n",
       "      <td></td>\n",
       "      <td></td>\n",
       "      <td>automotive</td>\n",
       "    </tr>\n",
       "    <tr>\n",
       "      <th>1</th>\n",
       "      <td>True</td>\n",
       "      <td>11 14, 2016</td>\n",
       "      <td>465EF4B95F3C23F3D2E0DF032806B593</td>\n",
       "      <td>44FF14695671384604654465F32F51BE</td>\n",
       "      <td>B9CBF62E157F0A8798A4D33BA089CE2B</td>\n",
       "      <td>slime must have a serious manufacturing defect...</td>\n",
       "      <td>Don't waste your time on the compressor lottery.</td>\n",
       "      <td>1479081600</td>\n",
       "      <td>6.0</td>\n",
       "      <td></td>\n",
       "      <td></td>\n",
       "      <td>automotive</td>\n",
       "    </tr>\n",
       "    <tr>\n",
       "      <th>2</th>\n",
       "      <td>True</td>\n",
       "      <td>12 8, 2016</td>\n",
       "      <td>139CE33FEE21437434272524E638F60B</td>\n",
       "      <td>FD46962FBDA48B8BCB6BCCDE86515E83</td>\n",
       "      <td>68A0EDEBA61ACC7DD4096275BBFA6C8A</td>\n",
       "      <td>while the description says will not produce an...</td>\n",
       "      <td>Not error free in 2012 Mini Countryman S ALL4</td>\n",
       "      <td>1481155200</td>\n",
       "      <td></td>\n",
       "      <td></td>\n",
       "      <td></td>\n",
       "      <td>automotive</td>\n",
       "    </tr>\n",
       "    <tr>\n",
       "      <th>3</th>\n",
       "      <td>True</td>\n",
       "      <td>06 16, 2016</td>\n",
       "      <td>5FAB0AEBEEF467F40843E12D1AD2176C</td>\n",
       "      <td>B602B679B1EDBD9C59BC91802E521324</td>\n",
       "      <td>5C6E597BBBCACE38B3335C3D02CB0522</td>\n",
       "      <td>this keys could not start my truck, after cutt...</td>\n",
       "      <td>This keys could not start my truck, after cutt...</td>\n",
       "      <td>1466035200</td>\n",
       "      <td></td>\n",
       "      <td></td>\n",
       "      <td>{'Color:': ' Black'}</td>\n",
       "      <td>automotive</td>\n",
       "    </tr>\n",
       "    <tr>\n",
       "      <th>4</th>\n",
       "      <td>False</td>\n",
       "      <td>12 3, 2016</td>\n",
       "      <td>EEEFD48788F090F22767829BD219B24C</td>\n",
       "      <td>DA059E333E0AF68256582317DBEDA711</td>\n",
       "      <td>50DDC9EE6BA5B5E97F77CDC57CC32EFD</td>\n",
       "      <td>kept on trickle charger when the hd was not ri...</td>\n",
       "      <td>Kept on trickle charger when the HD was not ri...</td>\n",
       "      <td>1480723200</td>\n",
       "      <td></td>\n",
       "      <td></td>\n",
       "      <td></td>\n",
       "      <td>automotive</td>\n",
       "    </tr>\n",
       "    <tr>\n",
       "      <th>...</th>\n",
       "      <td>...</td>\n",
       "      <td>...</td>\n",
       "      <td>...</td>\n",
       "      <td>...</td>\n",
       "      <td>...</td>\n",
       "      <td>...</td>\n",
       "      <td>...</td>\n",
       "      <td>...</td>\n",
       "      <td>...</td>\n",
       "      <td>...</td>\n",
       "      <td>...</td>\n",
       "      <td>...</td>\n",
       "    </tr>\n",
       "    <tr>\n",
       "      <th>4495</th>\n",
       "      <td>True</td>\n",
       "      <td>05 21, 2016</td>\n",
       "      <td>96229E77FBE5E282B1C28D480C4A7E9D</td>\n",
       "      <td>3D9B6884A0E19B6E98C4397E8AEC6969</td>\n",
       "      <td>471965BDE985724707CC087CE0E713FC</td>\n",
       "      <td>the name schleich speaks for itself.</td>\n",
       "      <td>Five Stars</td>\n",
       "      <td>1463788800</td>\n",
       "      <td></td>\n",
       "      <td></td>\n",
       "      <td>{'Product Packaging:': ' Standard Packaging'}</td>\n",
       "      <td>toys</td>\n",
       "    </tr>\n",
       "    <tr>\n",
       "      <th>4496</th>\n",
       "      <td>True</td>\n",
       "      <td>12 22, 2014</td>\n",
       "      <td>010ED927C28962D8BCEF691AC3C2CF61</td>\n",
       "      <td>E5B78BCDC7C77E82F9200E8E876EF31F</td>\n",
       "      <td>557BB4EFC53486EFFC9C113FE2B1A9E7</td>\n",
       "      <td>was what i expected</td>\n",
       "      <td>Five Stars</td>\n",
       "      <td>1419206400</td>\n",
       "      <td></td>\n",
       "      <td></td>\n",
       "      <td></td>\n",
       "      <td>toys</td>\n",
       "    </tr>\n",
       "    <tr>\n",
       "      <th>4497</th>\n",
       "      <td>True</td>\n",
       "      <td>12 17, 2011</td>\n",
       "      <td>CB6E508974747F4052E87E8FAC4851AD</td>\n",
       "      <td>9DE6FD79FECA9146D5350C831A95AE07</td>\n",
       "      <td>4DEDB16F4FFA333ADEAA4CD80A46B4BD</td>\n",
       "      <td>my son loves it.  every time it's in the playr...</td>\n",
       "      <td>Great</td>\n",
       "      <td>1324080000</td>\n",
       "      <td></td>\n",
       "      <td></td>\n",
       "      <td>{'Color:': ' Regular'}</td>\n",
       "      <td>toys</td>\n",
       "    </tr>\n",
       "    <tr>\n",
       "      <th>4498</th>\n",
       "      <td>True</td>\n",
       "      <td>05 23, 2018</td>\n",
       "      <td>6554C955821D198A9A120131E0ABC9A4</td>\n",
       "      <td>90430F87881E42941D83893F647945A2</td>\n",
       "      <td>BCCA8B84B04D85C637DF6503D9227641</td>\n",
       "      <td>very cute. fits in car seat handle but is defi...</td>\n",
       "      <td>Five Stars</td>\n",
       "      <td>1527033600</td>\n",
       "      <td></td>\n",
       "      <td></td>\n",
       "      <td></td>\n",
       "      <td>toys</td>\n",
       "    </tr>\n",
       "    <tr>\n",
       "      <th>4499</th>\n",
       "      <td>False</td>\n",
       "      <td>11 25, 2015</td>\n",
       "      <td>9E6E68D09D294E2F4B906F893BA0646E</td>\n",
       "      <td>29ECF94F93245C9D75DD7EE5DB0252E2</td>\n",
       "      <td>AC7938DC5E794F913EC83092EFE83177</td>\n",
       "      <td>we saw the viral video a while back of the fat...</td>\n",
       "      <td>Good, clean fun with surprisingly little mess</td>\n",
       "      <td>1448409600</td>\n",
       "      <td>3.0</td>\n",
       "      <td></td>\n",
       "      <td>{'Product Packaging:': ' Standard Packaging'}</td>\n",
       "      <td>toys</td>\n",
       "    </tr>\n",
       "  </tbody>\n",
       "</table>\n",
       "<p>4500 rows × 12 columns</p>\n",
       "</div>"
      ],
      "text/plain": [
       "      verified   reviewTime                        reviewerID  \\\n",
       "0         True  07 23, 2015  28EA11D68FB7FF05B5ABB5989B0EDDD2   \n",
       "1         True  11 14, 2016  465EF4B95F3C23F3D2E0DF032806B593   \n",
       "2         True   12 8, 2016  139CE33FEE21437434272524E638F60B   \n",
       "3         True  06 16, 2016  5FAB0AEBEEF467F40843E12D1AD2176C   \n",
       "4        False   12 3, 2016  EEEFD48788F090F22767829BD219B24C   \n",
       "...        ...          ...                               ...   \n",
       "4495      True  05 21, 2016  96229E77FBE5E282B1C28D480C4A7E9D   \n",
       "4496      True  12 22, 2014  010ED927C28962D8BCEF691AC3C2CF61   \n",
       "4497      True  12 17, 2011  CB6E508974747F4052E87E8FAC4851AD   \n",
       "4498      True  05 23, 2018  6554C955821D198A9A120131E0ABC9A4   \n",
       "4499     False  11 25, 2015  9E6E68D09D294E2F4B906F893BA0646E   \n",
       "\n",
       "                                  asin                      reviewerName  \\\n",
       "0     2CC19105CB9E7E4C30B1A399F3BFA181  B468F2974AA56619CF81B9DB66277892   \n",
       "1     44FF14695671384604654465F32F51BE  B9CBF62E157F0A8798A4D33BA089CE2B   \n",
       "2     FD46962FBDA48B8BCB6BCCDE86515E83  68A0EDEBA61ACC7DD4096275BBFA6C8A   \n",
       "3     B602B679B1EDBD9C59BC91802E521324  5C6E597BBBCACE38B3335C3D02CB0522   \n",
       "4     DA059E333E0AF68256582317DBEDA711  50DDC9EE6BA5B5E97F77CDC57CC32EFD   \n",
       "...                                ...                               ...   \n",
       "4495  3D9B6884A0E19B6E98C4397E8AEC6969  471965BDE985724707CC087CE0E713FC   \n",
       "4496  E5B78BCDC7C77E82F9200E8E876EF31F  557BB4EFC53486EFFC9C113FE2B1A9E7   \n",
       "4497  9DE6FD79FECA9146D5350C831A95AE07  4DEDB16F4FFA333ADEAA4CD80A46B4BD   \n",
       "4498  90430F87881E42941D83893F647945A2  BCCA8B84B04D85C637DF6503D9227641   \n",
       "4499  29ECF94F93245C9D75DD7EE5DB0252E2  AC7938DC5E794F913EC83092EFE83177   \n",
       "\n",
       "                                             reviewText  \\\n",
       "0     ordered 318c and receive the 303c. my bad. i d...   \n",
       "1     slime must have a serious manufacturing defect...   \n",
       "2     while the description says will not produce an...   \n",
       "3     this keys could not start my truck, after cutt...   \n",
       "4     kept on trickle charger when the hd was not ri...   \n",
       "...                                                 ...   \n",
       "4495               the name schleich speaks for itself.   \n",
       "4496                                was what i expected   \n",
       "4497  my son loves it.  every time it's in the playr...   \n",
       "4498  very cute. fits in car seat handle but is defi...   \n",
       "4499  we saw the viral video a while back of the fat...   \n",
       "\n",
       "                                                summary  unixReviewTime vote  \\\n",
       "0                                          Wrong filter      1437609600        \n",
       "1      Don't waste your time on the compressor lottery.      1479081600  6.0   \n",
       "2         Not error free in 2012 Mini Countryman S ALL4      1481155200        \n",
       "3     This keys could not start my truck, after cutt...      1466035200        \n",
       "4     Kept on trickle charger when the HD was not ri...      1480723200        \n",
       "...                                                 ...             ...  ...   \n",
       "4495                                         Five Stars      1463788800        \n",
       "4496                                         Five Stars      1419206400        \n",
       "4497                                              Great      1324080000        \n",
       "4498                                         Five Stars      1527033600        \n",
       "4499      Good, clean fun with surprisingly little mess      1448409600  3.0   \n",
       "\n",
       "     image                                          style    category  \n",
       "0                                                          automotive  \n",
       "1                                                          automotive  \n",
       "2                                                          automotive  \n",
       "3                                    {'Color:': ' Black'}  automotive  \n",
       "4                                                          automotive  \n",
       "...    ...                                            ...         ...  \n",
       "4495        {'Product Packaging:': ' Standard Packaging'}        toys  \n",
       "4496                                                             toys  \n",
       "4497                               {'Color:': ' Regular'}        toys  \n",
       "4498                                                             toys  \n",
       "4499        {'Product Packaging:': ' Standard Packaging'}        toys  \n",
       "\n",
       "[4500 rows x 12 columns]"
      ]
     },
     "execution_count": 3,
     "metadata": {},
     "output_type": "execute_result"
    }
   ],
   "source": [
    "# check the catagory null sums\n",
    "df_train.isnull().sum()\n",
    "df_test.isnull().sum()\n",
    "\n",
    "# check the null sums for every col\n",
    "df_train.isnull().sum().sum()\n",
    "df_test.isnull().sum().sum()\n",
    "\n",
    "# remove missing vals\n",
    "df_train.dropna()\n",
    "df_test.dropna()\n",
    "\n",
    "# get the testing and training sets with no NaN\n",
    "df_train.replace(np. nan,'',regex=True) \n",
    "df_test.replace(np. nan,'',regex=True) "
   ]
  },
  {
   "cell_type": "code",
   "execution_count": 4,
   "id": "3b13bb2e",
   "metadata": {},
   "outputs": [],
   "source": [
    "# get the targets for the training set \n",
    "def targets(cutoff):\n",
    "    targets = []\n",
    "    for o in df_train['overall']:\n",
    "        if o>cutoff:\n",
    "            targets.append(1)\n",
    "        else:\n",
    "            targets.append(0)\n",
    "    return targets"
   ]
  },
  {
   "cell_type": "code",
   "execution_count": 5,
   "id": "187a377d",
   "metadata": {},
   "outputs": [],
   "source": [
    "# import and define necessary functions \n",
    "from sklearn.feature_extraction.text import CountVectorizer\n",
    "from sklearn.linear_model import LogisticRegression\n",
    "from sklearn.linear_model import RidgeClassifier\n",
    "from sklearn.linear_model import Perceptron\n",
    "from sklearn.metrics import confusion_matrix\n",
    "from sklearn.metrics import RocCurveDisplay\n",
    "from sklearn.metrics import roc_auc_score\n",
    "from sklearn.metrics import roc_curve\n",
    "from sklearn.metrics import f1_score\n",
    "from sklearn.metrics import accuracy_score\n",
    "from sklearn.model_selection import KFold\n",
    "from sklearn.model_selection import cross_val_score\n",
    "from sklearn import metrics\n",
    "from sklearn.model_selection import GridSearchCV\n",
    "from sklearn.ensemble import RandomForestClassifier\n",
    "from sklearn.model_selection import RandomizedSearchCV\n",
    "from sklearn.model_selection import train_test_split\n",
    "\n",
    "CVectorizer=CountVectorizer(ngram_range=(1,3),min_df=5)\n",
    "\n",
    "# fit vectors\n",
    "uni_bigrams_train=CVectorizer.fit(df_train['reviewText'])\n",
    "uni_bigrams_test=CVectorizer.fit(df_test['reviewText'])\n",
    "\n",
    "# get the training and testing vectors \n",
    "X_train_vectorized=uni_bigrams_train.transform(df_train['reviewText'])\n",
    "X_test_vectorized=uni_bigrams_test.transform(df_test['reviewText'])\n",
    "\n",
    "#define cross-validation method to use\n",
    "cv = KFold(n_splits=5, random_state=1, shuffle=True)"
   ]
  },
  {
   "cell_type": "markdown",
   "id": "399077e2",
   "metadata": {},
   "source": [
    "# Binary Classification"
   ]
  },
  {
   "cell_type": "markdown",
   "id": "78c14238",
   "metadata": {},
   "source": [
    "## Binary Classification 1: Logistic Regression\n",
    "Note: there are fewer iterations because this model is quite slow, thus it is the least accurate. Also, I got \"max iter reached\" errors but my code still runs and produces output. Scroll past these errors to see output."
   ]
  },
  {
   "cell_type": "code",
   "execution_count": 15,
   "id": "cfb613f4",
   "metadata": {},
   "outputs": [
    {
     "name": "stdout",
     "output_type": "stream",
     "text": [
      "beginning calculations\n",
      "Fitting 5 folds for each of 10 candidates, totalling 50 fits\n",
      "Fitting 5 folds for each of 10 candidates, totalling 50 fits\n",
      "Fitting 5 folds for each of 10 candidates, totalling 50 fits\n",
      "Fitting 5 folds for each of 10 candidates, totalling 50 fits\n",
      "Fitting 5 folds for each of 10 candidates, totalling 50 fits\n",
      "Fitting 5 folds for each of 10 candidates, totalling 50 fits\n",
      "Cutoff 1:\n",
      "Cross Validation accuracy scores: [-0.08324769 -0.105173   -0.09146968 -0.08393285 -0.10212474]\n",
      "Cross Validation accuracy: -0.093 +/- 0.009\n",
      "Best parameters: {'max_iter': 550, 'C': 0.20408163265306123}\n",
      "Score for cutoff 1: 0.5731829954067071\n",
      "Confusion Matrix for cutoff 1: [[ 2095   920]\n",
      " [  101 11478]]\n",
      "ROC AUC Score for cutoff 1: 0.9804247467501713\n",
      "F1 score for cutoff 1: 0.8807429210749663\n",
      "Accuracy for cutoff 1: 0.930039742359874\n",
      "ROC CURVE\n"
     ]
    },
    {
     "data": {
      "image/png": "[encoded data removed]",
      "text/plain": [
       "<Figure size 432x288 with 1 Axes>"
      ]
     },
     "metadata": {
      "needs_background": "light"
     },
     "output_type": "display_data"
    },
    {
     "name": "stdout",
     "output_type": "stream",
     "text": [
      "beginning calculations\n",
      "Fitting 5 folds for each of 10 candidates, totalling 50 fits\n",
      "Fitting 5 folds for each of 10 candidates, totalling 50 fits\n"
     ]
    },
    {
     "name": "stderr",
     "output_type": "stream",
     "text": [
      "/Users/talsternberg/opt/anaconda3/lib/python3.8/site-packages/sklearn/linear_model/_logistic.py:814: ConvergenceWarning: lbfgs failed to converge (status=1):\n",
      "STOP: TOTAL NO. of ITERATIONS REACHED LIMIT.\n",
      "\n",
      "Increase the number of iterations (max_iter) or scale the data as shown in:\n",
      "    https://scikit-learn.org/stable/modules/preprocessing.html\n",
      "Please also refer to the documentation for alternative solver options:\n",
      "    https://scikit-learn.org/stable/modules/linear_model.html#logistic-regression\n",
      "  n_iter_i = _check_optimize_result(\n",
      "/Users/talsternberg/opt/anaconda3/lib/python3.8/site-packages/sklearn/linear_model/_logistic.py:814: ConvergenceWarning: lbfgs failed to converge (status=1):\n",
      "STOP: TOTAL NO. of ITERATIONS REACHED LIMIT.\n",
      "\n",
      "Increase the number of iterations (max_iter) or scale the data as shown in:\n",
      "    https://scikit-learn.org/stable/modules/preprocessing.html\n",
      "Please also refer to the documentation for alternative solver options:\n",
      "    https://scikit-learn.org/stable/modules/linear_model.html#logistic-regression\n",
      "  n_iter_i = _check_optimize_result(\n"
     ]
    },
    {
     "name": "stdout",
     "output_type": "stream",
     "text": [
      "Fitting 5 folds for each of 10 candidates, totalling 50 fits\n",
      "Fitting 5 folds for each of 10 candidates, totalling 50 fits\n",
      "Cutoff 2:\n",
      "Cross Validation accuracy scores: [-0.12127441 -0.13463515 -0.12572799 -0.13292223 -0.1394791 ]\n",
      "Cross Validation accuracy: -0.131 +/- 0.006\n",
      "Best parameters: {'max_iter': 550, 'C': 0.20408163265306123}\n",
      "Score for cutoff 2: 0.7023673562618287\n",
      "Confusion Matrix for cutoff 2: [[5248  722]\n",
      " [ 328 8296]]\n",
      "ROC AUC Score for cutoff 2: 0.9811343067377706\n",
      "F1 score for cutoff 2: 0.9247711764791016\n",
      "Accuracy for cutoff 2: 0.9280526243661779\n",
      "ROC CURVE\n"
     ]
    },
    {
     "name": "stderr",
     "output_type": "stream",
     "text": [
      "/Users/talsternberg/opt/anaconda3/lib/python3.8/site-packages/sklearn/linear_model/_logistic.py:814: ConvergenceWarning: lbfgs failed to converge (status=1):\n",
      "STOP: TOTAL NO. of ITERATIONS REACHED LIMIT.\n",
      "\n",
      "Increase the number of iterations (max_iter) or scale the data as shown in:\n",
      "    https://scikit-learn.org/stable/modules/preprocessing.html\n",
      "Please also refer to the documentation for alternative solver options:\n",
      "    https://scikit-learn.org/stable/modules/linear_model.html#logistic-regression\n",
      "  n_iter_i = _check_optimize_result(\n"
     ]
    },
    {
     "data": {
      "image/png": "[encoded data removed]",
      "text/plain": [
       "<Figure size 432x288 with 1 Axes>"
      ]
     },
     "metadata": {
      "needs_background": "light"
     },
     "output_type": "display_data"
    },
    {
     "name": "stdout",
     "output_type": "stream",
     "text": [
      "beginning calculations\n",
      "Fitting 5 folds for each of 10 candidates, totalling 50 fits\n",
      "Fitting 5 folds for each of 10 candidates, totalling 50 fits\n",
      "Fitting 5 folds for each of 10 candidates, totalling 50 fits\n",
      "Fitting 5 folds for each of 10 candidates, totalling 50 fits\n",
      "Fitting 5 folds for each of 10 candidates, totalling 50 fits\n"
     ]
    },
    {
     "name": "stderr",
     "output_type": "stream",
     "text": [
      "/Users/talsternberg/opt/anaconda3/lib/python3.8/site-packages/sklearn/linear_model/_logistic.py:814: ConvergenceWarning: lbfgs failed to converge (status=1):\n",
      "STOP: TOTAL NO. of ITERATIONS REACHED LIMIT.\n",
      "\n",
      "Increase the number of iterations (max_iter) or scale the data as shown in:\n",
      "    https://scikit-learn.org/stable/modules/preprocessing.html\n",
      "Please also refer to the documentation for alternative solver options:\n",
      "    https://scikit-learn.org/stable/modules/linear_model.html#logistic-regression\n",
      "  n_iter_i = _check_optimize_result(\n",
      "/Users/talsternberg/opt/anaconda3/lib/python3.8/site-packages/sklearn/linear_model/_logistic.py:814: ConvergenceWarning: lbfgs failed to converge (status=1):\n",
      "STOP: TOTAL NO. of ITERATIONS REACHED LIMIT.\n",
      "\n",
      "Increase the number of iterations (max_iter) or scale the data as shown in:\n",
      "    https://scikit-learn.org/stable/modules/preprocessing.html\n",
      "Please also refer to the documentation for alternative solver options:\n",
      "    https://scikit-learn.org/stable/modules/linear_model.html#logistic-regression\n",
      "  n_iter_i = _check_optimize_result(\n",
      "/Users/talsternberg/opt/anaconda3/lib/python3.8/site-packages/sklearn/linear_model/_logistic.py:814: ConvergenceWarning: lbfgs failed to converge (status=1):\n",
      "STOP: TOTAL NO. of ITERATIONS REACHED LIMIT.\n",
      "\n",
      "Increase the number of iterations (max_iter) or scale the data as shown in:\n",
      "    https://scikit-learn.org/stable/modules/preprocessing.html\n",
      "Please also refer to the documentation for alternative solver options:\n",
      "    https://scikit-learn.org/stable/modules/linear_model.html#logistic-regression\n",
      "  n_iter_i = _check_optimize_result(\n",
      "/Users/talsternberg/opt/anaconda3/lib/python3.8/site-packages/sklearn/linear_model/_logistic.py:814: ConvergenceWarning: lbfgs failed to converge (status=1):\n",
      "STOP: TOTAL NO. of ITERATIONS REACHED LIMIT.\n",
      "\n",
      "Increase the number of iterations (max_iter) or scale the data as shown in:\n",
      "    https://scikit-learn.org/stable/modules/preprocessing.html\n",
      "Please also refer to the documentation for alternative solver options:\n",
      "    https://scikit-learn.org/stable/modules/linear_model.html#logistic-regression\n",
      "  n_iter_i = _check_optimize_result(\n"
     ]
    },
    {
     "name": "stdout",
     "output_type": "stream",
     "text": [
      "Fitting 5 folds for each of 10 candidates, totalling 50 fits\n"
     ]
    },
    {
     "name": "stderr",
     "output_type": "stream",
     "text": [
      "/Users/talsternberg/opt/anaconda3/lib/python3.8/site-packages/sklearn/linear_model/_logistic.py:814: ConvergenceWarning: lbfgs failed to converge (status=1):\n",
      "STOP: TOTAL NO. of ITERATIONS REACHED LIMIT.\n",
      "\n",
      "Increase the number of iterations (max_iter) or scale the data as shown in:\n",
      "    https://scikit-learn.org/stable/modules/preprocessing.html\n",
      "Please also refer to the documentation for alternative solver options:\n",
      "    https://scikit-learn.org/stable/modules/linear_model.html#logistic-regression\n",
      "  n_iter_i = _check_optimize_result(\n",
      "/Users/talsternberg/opt/anaconda3/lib/python3.8/site-packages/sklearn/linear_model/_logistic.py:814: ConvergenceWarning: lbfgs failed to converge (status=1):\n",
      "STOP: TOTAL NO. of ITERATIONS REACHED LIMIT.\n",
      "\n",
      "Increase the number of iterations (max_iter) or scale the data as shown in:\n",
      "    https://scikit-learn.org/stable/modules/preprocessing.html\n",
      "Please also refer to the documentation for alternative solver options:\n",
      "    https://scikit-learn.org/stable/modules/linear_model.html#logistic-regression\n",
      "  n_iter_i = _check_optimize_result(\n"
     ]
    },
    {
     "name": "stdout",
     "output_type": "stream",
     "text": [
      "Fitting 5 folds for each of 10 candidates, totalling 50 fits\n",
      "Cutoff 3:\n",
      "Cross Validation accuracy scores: [-0.11202467 -0.12264474 -0.11956149 -0.11716341 -0.12268677]\n",
      "Cross Validation accuracy: -0.119 +/- 0.004\n",
      "Best parameters: {'max_iter': 550, 'C': 0.20408163265306123}\n",
      "Score for cutoff 3: 0.7384922858559748\n",
      "Confusion Matrix for cutoff 3: [[8488  342]\n",
      " [ 570 5194]]\n",
      "ROC AUC Score for cutoff 3: 0.984974620855185\n",
      "F1 score for cutoff 3: 0.9341540677885605\n",
      "Accuracy for cutoff 3: 0.9375085651637659\n",
      "ROC CURVE\n"
     ]
    },
    {
     "data": {
      "image/png": "[encoded data removed]",
      "text/plain": [
       "<Figure size 432x288 with 1 Axes>"
      ]
     },
     "metadata": {
      "needs_background": "light"
     },
     "output_type": "display_data"
    },
    {
     "name": "stdout",
     "output_type": "stream",
     "text": [
      "beginning calculations\n",
      "Fitting 5 folds for each of 10 candidates, totalling 50 fits\n"
     ]
    },
    {
     "name": "stderr",
     "output_type": "stream",
     "text": [
      "/Users/talsternberg/opt/anaconda3/lib/python3.8/site-packages/sklearn/linear_model/_logistic.py:814: ConvergenceWarning: lbfgs failed to converge (status=1):\n",
      "STOP: TOTAL NO. of ITERATIONS REACHED LIMIT.\n",
      "\n",
      "Increase the number of iterations (max_iter) or scale the data as shown in:\n",
      "    https://scikit-learn.org/stable/modules/preprocessing.html\n",
      "Please also refer to the documentation for alternative solver options:\n",
      "    https://scikit-learn.org/stable/modules/linear_model.html#logistic-regression\n",
      "  n_iter_i = _check_optimize_result(\n"
     ]
    },
    {
     "name": "stdout",
     "output_type": "stream",
     "text": [
      "Fitting 5 folds for each of 10 candidates, totalling 50 fits\n",
      "Fitting 5 folds for each of 10 candidates, totalling 50 fits\n",
      "Fitting 5 folds for each of 10 candidates, totalling 50 fits\n",
      "Fitting 5 folds for each of 10 candidates, totalling 50 fits\n",
      "Fitting 5 folds for each of 10 candidates, totalling 50 fits\n",
      "Cutoff 4:\n",
      "Cross Validation accuracy scores: [-0.08804385 -0.08256252 -0.09249743 -0.08084961 -0.07539411]\n",
      "Cross Validation accuracy: -0.084 +/- 0.006\n",
      "Best parameters: {'max_iter': 550, 'C': 0.20408163265306123}\n",
      "Score for cutoff 4: 0.5553203792785166\n",
      "Confusion Matrix for cutoff 4: [[11654   159]\n",
      " [  842  1939]]\n",
      "ROC AUC Score for cutoff 4: 0.9805006265533132\n",
      "F1 score for cutoff 4: 0.8768284213538827\n",
      "Accuracy for cutoff 4: 0.9314101685624229\n",
      "ROC CURVE\n"
     ]
    },
    {
     "data": {
      "image/png": "[encoded data removed]",
      "text/plain": [
       "<Figure size 432x288 with 1 Axes>"
      ]
     },
     "metadata": {
      "needs_background": "light"
     },
     "output_type": "display_data"
    }
   ],
   "source": [
    "# iterate through cutoffs\n",
    "for i in range(1,5):\n",
    "    # perform logistic regression around a cutoff\n",
    "    df_train['Estimated Targets'] = targets(i)\n",
    "    y_train = df_train['Estimated Targets']\n",
    "    \n",
    "    # break up the data to run this classifier with each cutoff\n",
    "    X_train_use, X_test_use, y_train_use, y_test_use = train_test_split(X_train_vectorized, y_train, test_size=0.5)\n",
    "    print(\"beginning calculations\") # check that its running -- it is slow\n",
    "    # find the parameters best for model\n",
    "    mod = RandomizedSearchCV(LogisticRegression(random_state=0),\n",
    "                           {'C' : np.linspace(0, 10, 50),\n",
    "                            'max_iter' : [500, 550,750, 1000]\n",
    "                            },cv=5, scoring=\"r2\",verbose=1,n_jobs=-1, \n",
    "                             n_iter=10, random_state = 0\n",
    "                         )\n",
    "    # fit and predict based on the parameters\n",
    "    mod.fit(X_train_use,y_train_use)\n",
    "    mod.predict(X_train_use[:2, :])\n",
    "    \n",
    "    # obtain confusion matrix, predicted y, scores, roc-auc, f1, accuracy\n",
    "    y_pred = mod.predict(X_train_use)\n",
    "    c = confusion_matrix(y_train_use, y_pred)\n",
    "    m = mod.score(X_train_use, y_train_use)\n",
    "    r = roc_auc_score(y_train_use, mod.decision_function(X_train_use))\n",
    "    f = f1_score(y_train_use, y_pred, average='macro')\n",
    "    a = accuracy_score(y_train_use, y_pred)\n",
    "    scores = cross_val_score(mod, X_train_use, y_pred, scoring='neg_mean_squared_error',\n",
    "                         cv=cv, n_jobs=-1)\n",
    "    \n",
    "    # print all of our output for each cuttoff\n",
    "    print(\"Cutoff \" + str(i) + \":\")\n",
    "    print('Cross Validation accuracy scores: %s' % scores)\n",
    "    print('Cross Validation accuracy: %.3f +/- %.3f' % (np.mean(scores),np.std(scores)))\n",
    "    print('Best parameters: '  + str(mod.best_params_))\n",
    "    print(\"Score for cutoff \" + str(i) + \": \" + str(m))\n",
    "    print(\"Confusion Matrix for cutoff \" + str(i) + \": \" + str(c))\n",
    "    print(\"ROC AUC Score for cutoff \" + str(i) + \": \" + str(r))\n",
    "    print(\"F1 score for cutoff \" + str(i) + \": \" + str(f))\n",
    "    print(\"Accuracy for cutoff \" + str(i) + \": \" + str(a))\n",
    "    print(\"ROC CURVE\")\n",
    "    RocCurveDisplay.from_predictions(y_train_use, y_pred) \n",
    "    plt.show()\n",
    "    \n"
   ]
  },
  {
   "cell_type": "markdown",
   "id": "68b0bddd",
   "metadata": {},
   "source": [
    "## Binary Classification 2: Ridge Classifier"
   ]
  },
  {
   "cell_type": "code",
   "execution_count": 8,
   "id": "a07d1332",
   "metadata": {},
   "outputs": [
    {
     "name": "stdout",
     "output_type": "stream",
     "text": [
      "Fitting 5 folds for each of 10 candidates, totalling 50 fits\n",
      "Fitting 5 folds for each of 10 candidates, totalling 50 fits\n",
      "Fitting 5 folds for each of 10 candidates, totalling 50 fits\n",
      "Fitting 5 folds for each of 10 candidates, totalling 50 fits\n",
      "Fitting 5 folds for each of 10 candidates, totalling 50 fits\n",
      "Fitting 5 folds for each of 10 candidates, totalling 50 fits\n",
      "1:\n",
      "Cross Validation accuracy scores: [-0.10483042 -0.09386776 -0.0950668  -0.09660843 -0.10107932]\n",
      "Cross Validation accuracy: -0.098 +/- 0.004\n",
      "Best Params: {'max_iter': 750, 'alpha': 9.183673469387756}\n",
      "Score for cutoff 1: 0.4636461806051727\n",
      "Confusion Matrix for cutoff 1: [[ 3653  2304]\n",
      " [  239 22993]]\n",
      "ROC AUC Score for cutoff 1: 0.9653629578901318\n",
      "F1 score for cutoff 1: 0.8446997706749234\n",
      "Accuracy for cutoff 1: 0.9128781390249752\n",
      "ROC CURVE\n"
     ]
    },
    {
     "data": {
      "image/png": "[encoded data removed]",
      "text/plain": [
       "<Figure size 432x288 with 1 Axes>"
      ]
     },
     "metadata": {
      "needs_background": "light"
     },
     "output_type": "display_data"
    },
    {
     "name": "stdout",
     "output_type": "stream",
     "text": [
      "Fitting 5 folds for each of 10 candidates, totalling 50 fits\n",
      "Fitting 5 folds for each of 10 candidates, totalling 50 fits\n",
      "Fitting 5 folds for each of 10 candidates, totalling 50 fits\n",
      "Fitting 5 folds for each of 10 candidates, totalling 50 fits\n",
      "Fitting 5 folds for each of 10 candidates, totalling 50 fits\n",
      "Fitting 5 folds for each of 10 candidates, totalling 50 fits\n",
      "2:\n",
      "Cross Validation accuracy scores: [-0.14063035 -0.13583419 -0.13686194 -0.14405618 -0.14750728]\n",
      "Cross Validation accuracy: -0.141 +/- 0.004\n",
      "Best Params: {'max_iter': 750, 'alpha': 9.183673469387756}\n",
      "Score for cutoff 2: 0.6128461378669385\n",
      "Confusion Matrix for cutoff 2: [[ 9954  1962]\n",
      " [  768 16505]]\n",
      "ROC AUC Score for cutoff 2: 0.9727440634199135\n",
      "F1 score for cutoff 2: 0.9015106525898755\n",
      "Accuracy for cutoff 2: 0.9064716160197335\n",
      "ROC CURVE\n"
     ]
    },
    {
     "data": {
      "image/png": "[encoded data removed]",
      "text/plain": [
       "<Figure size 432x288 with 1 Axes>"
      ]
     },
     "metadata": {
      "needs_background": "light"
     },
     "output_type": "display_data"
    },
    {
     "name": "stdout",
     "output_type": "stream",
     "text": [
      "Fitting 5 folds for each of 10 candidates, totalling 50 fits\n",
      "Fitting 5 folds for each of 10 candidates, totalling 50 fits\n",
      "Fitting 5 folds for each of 10 candidates, totalling 50 fits\n",
      "Fitting 5 folds for each of 10 candidates, totalling 50 fits\n",
      "Fitting 5 folds for each of 10 candidates, totalling 50 fits\n",
      "Fitting 5 folds for each of 10 candidates, totalling 50 fits\n",
      "3:\n",
      "Cross Validation accuracy scores: [-0.1294964  -0.13275094 -0.13189448 -0.12675574 -0.13225972]\n",
      "Cross Validation accuracy: -0.131 +/- 0.002\n",
      "Best Params: {'max_iter': 750, 'alpha': 9.183673469387756}\n",
      "Score for cutoff 3: 0.655541619505937\n",
      "Confusion Matrix for cutoff 3: [[16972   806]\n",
      " [ 1588  9823]]\n",
      "ROC AUC Score for cutoff 3: 0.9765570913011908\n",
      "F1 score for cutoff 3: 0.9127489319625508\n",
      "Accuracy for cutoff 3: 0.9179828017403816\n",
      "ROC CURVE\n"
     ]
    },
    {
     "data": {
      "image/png": "[encoded data removed]",
      "text/plain": [
       "<Figure size 432x288 with 1 Axes>"
      ]
     },
     "metadata": {
      "needs_background": "light"
     },
     "output_type": "display_data"
    },
    {
     "name": "stdout",
     "output_type": "stream",
     "text": [
      "Fitting 5 folds for each of 10 candidates, totalling 50 fits\n",
      "Fitting 5 folds for each of 10 candidates, totalling 50 fits\n",
      "Fitting 5 folds for each of 10 candidates, totalling 50 fits\n",
      "Fitting 5 folds for each of 10 candidates, totalling 50 fits\n",
      "Fitting 5 folds for each of 10 candidates, totalling 50 fits\n",
      "4:\n",
      "Cross Validation accuracy scores: [-0.08615964 -0.09609455 -0.08838643 -0.09986297 -0.09576837]\n",
      "Cross Validation accuracy: -0.093 +/- 0.005\n",
      "Best Params: {'max_iter': 750, 'alpha': 9.183673469387756}\n",
      "Score for cutoff 4: 0.401069537635116\n",
      "Confusion Matrix for cutoff 4: [[23211   336]\n",
      " [ 2390  3252]]\n",
      "ROC AUC Score for cutoff 4: 0.9652266699075621\n",
      "F1 score for cutoff 4: 0.8245967979087376\n",
      "Accuracy for cutoff 4: 0.9066086539449792\n",
      "ROC CURVE\n",
      "Fitting 5 folds for each of 10 candidates, totalling 50 fits\n"
     ]
    },
    {
     "data": {
      "image/png": "[encoded data removed]",
      "text/plain": [
       "<Figure size 432x288 with 1 Axes>"
      ]
     },
     "metadata": {
      "needs_background": "light"
     },
     "output_type": "display_data"
    }
   ],
   "source": [
    "# run through cutoffs and report scores\n",
    "for i in range(1,5):\n",
    "    # perform classification around a cutoff\n",
    "    df_train['Estimated Targets'] = targets(i)\n",
    "    y_train = df_train['Estimated Targets']\n",
    "    # find the parameters best for model\n",
    "    mod = RandomizedSearchCV(RidgeClassifier(random_state=0),\n",
    "                           {'alpha' : np.linspace(0, 10, 50),\n",
    "                            'max_iter' : [500,550,750,1000]\n",
    "                            },cv=5, scoring=\"r2\",verbose=1,n_jobs=-1, \n",
    "                             n_iter=10, random_state = 0\n",
    "                           )\n",
    "    # fit and predict using the parameters\n",
    "    mod.fit(X_train_vectorized,y_train)\n",
    "    mod.predict(X_train_vectorized[:2, :])\n",
    "    \n",
    "    # obtain confusion matrix\n",
    "    y_pred = mod.predict(X_train_vectorized)\n",
    "    c = confusion_matrix(y_train, y_pred)\n",
    "    m = mod.score(X_train_vectorized, y_train)\n",
    "    r = roc_auc_score(y_train, mod.decision_function(X_train_vectorized))\n",
    "    f = f1_score(y_train, y_pred, average='macro')\n",
    "    a = accuracy_score(y_train, y_pred)\n",
    "    scores = cross_val_score(mod, X_train_vectorized, y_pred, scoring='neg_mean_squared_error',\n",
    "                         cv=cv, n_jobs=-1)\n",
    "    \n",
    "    # print the output I want\n",
    "    print(str(i) + \":\")\n",
    "    print('Cross Validation accuracy scores: %s' % scores)\n",
    "    print('Cross Validation accuracy: %.3f +/- %.3f' % (np.mean(scores),np.std(scores)))\n",
    "    \n",
    "    print('Best Params: ' + str(mod.best_params_))\n",
    "    print(\"Score for cutoff \" + str(i) + \": \" + str(m))\n",
    "    print(\"Confusion Matrix for cutoff \" + str(i) + \": \" + str(c))\n",
    "    print(\"ROC AUC Score for cutoff \" + str(i) + \": \" + str(r))\n",
    "    print(\"F1 score for cutoff \" + str(i) + \": \" + str(f))\n",
    "    print(\"Accuracy for cutoff \" + str(i) + \": \" + str(a))\n",
    "    print(\"ROC CURVE\")\n",
    "    RocCurveDisplay.from_predictions(y_train, y_pred) \n",
    "    plt.show()"
   ]
  },
  {
   "cell_type": "markdown",
   "id": "bacc33b2",
   "metadata": {},
   "source": [
    "## Binary Classification 3: Perceptron"
   ]
  },
  {
   "cell_type": "code",
   "execution_count": 10,
   "id": "f05a5034",
   "metadata": {},
   "outputs": [
    {
     "name": "stdout",
     "output_type": "stream",
     "text": [
      "Fitting 5 folds for each of 50 candidates, totalling 250 fits\n",
      "Fitting 5 folds for each of 50 candidates, totalling 250 fits\n",
      "Fitting 5 folds for each of 50 candidates, totalling 250 fits\n",
      "Fitting 5 folds for each of 50 candidates, totalling 250 fits\n",
      "Fitting 5 folds for each of 50 candidates, totalling 250 fits\n",
      "Fitting 5 folds for each of 50 candidates, totalling 250 fits\n",
      "1:\n",
      "Cross Validation accuracy scores: [-0.1336074  -0.12418637 -0.1294964  -0.1235012  -0.13071783]\n",
      "Cross Validation accuracy: -0.128 +/- 0.004\n",
      "Best Parameters: {'max_iter': 750, 'alpha': 0.8163265306122449}\n",
      "Score for cutoff 1: 0.6140277272935376\n",
      "Confusion Matrix for cutoff 1: [[ 4819  1138]\n",
      " [  692 22540]]\n",
      "ROC AUC Score for cutoff 1: 0.9767722360051905\n",
      "F1 score for cutoff 1: 0.9007073300162829\n",
      "Accuracy for cutoff 1: 0.9373051492000412\n",
      "ROC CURVE\n"
     ]
    },
    {
     "data": {
      "image/png": "[encoded data removed]",
      "text/plain": [
       "<Figure size 432x288 with 1 Axes>"
      ]
     },
     "metadata": {
      "needs_background": "light"
     },
     "output_type": "display_data"
    },
    {
     "name": "stdout",
     "output_type": "stream",
     "text": [
      "Fitting 5 folds for each of 50 candidates, totalling 250 fits\n",
      "Fitting 5 folds for each of 50 candidates, totalling 250 fits\n",
      "Fitting 5 folds for each of 50 candidates, totalling 250 fits\n",
      "Fitting 5 folds for each of 50 candidates, totalling 250 fits\n",
      "Fitting 5 folds for each of 50 candidates, totalling 250 fits\n",
      "Fitting 5 folds for each of 50 candidates, totalling 250 fits\n",
      "2:\n",
      "Cross Validation accuracy scores: [-0.14628297 -0.15861596 -0.14833847 -0.15673176 -0.15761521]\n",
      "Cross Validation accuracy: -0.154 +/- 0.005\n",
      "Best Parameters: {'max_iter': 750, 'alpha': 0.8163265306122449}\n",
      "Score for cutoff 2: 0.6200786825441496\n",
      "Confusion Matrix for cutoff 2: [[ 9904  2012]\n",
      " [  667 16606]]\n",
      "ROC AUC Score for cutoff 2: 0.9715243456156663\n",
      "F1 score for cutoff 2: 0.9031109157051225\n",
      "Accuracy for cutoff 2: 0.9082188495666176\n",
      "ROC CURVE\n"
     ]
    },
    {
     "data": {
      "image/png": "[encoded data removed]",
      "text/plain": [
       "<Figure size 432x288 with 1 Axes>"
      ]
     },
     "metadata": {
      "needs_background": "light"
     },
     "output_type": "display_data"
    },
    {
     "name": "stdout",
     "output_type": "stream",
     "text": [
      "Fitting 5 folds for each of 50 candidates, totalling 250 fits\n",
      "Fitting 5 folds for each of 50 candidates, totalling 250 fits\n",
      "Fitting 5 folds for each of 50 candidates, totalling 250 fits\n",
      "Fitting 5 folds for each of 50 candidates, totalling 250 fits\n",
      "Fitting 5 folds for each of 50 candidates, totalling 250 fits\n",
      "Fitting 5 folds for each of 50 candidates, totalling 250 fits\n",
      "3:\n",
      "Cross Validation accuracy scores: [-0.14594039 -0.15159301 -0.14028777 -0.15981501 -0.14699332]\n",
      "Cross Validation accuracy: -0.149 +/- 0.007\n",
      "Best Parameters: {'max_iter': 750, 'alpha': 0.8163265306122449}\n",
      "Score for cutoff 3: 0.7292102455765135\n",
      "Confusion Matrix for cutoff 3: [[17037   741]\n",
      " [ 1141 10270]]\n",
      "ROC AUC Score for cutoff 3: 0.9851719267079401\n",
      "F1 score for cutoff 3: 0.9318614142009403\n",
      "Accuracy for cutoff 3: 0.9355236561718455\n",
      "ROC CURVE\n"
     ]
    },
    {
     "data": {
      "image/png": "[encoded data removed]",
      "text/plain": [
       "<Figure size 432x288 with 1 Axes>"
      ]
     },
     "metadata": {
      "needs_background": "light"
     },
     "output_type": "display_data"
    },
    {
     "name": "stdout",
     "output_type": "stream",
     "text": [
      "Fitting 5 folds for each of 50 candidates, totalling 250 fits\n",
      "Fitting 5 folds for each of 50 candidates, totalling 250 fits\n",
      "Fitting 5 folds for each of 50 candidates, totalling 250 fits\n",
      "Fitting 5 folds for each of 50 candidates, totalling 250 fits\n",
      "Fitting 5 folds for each of 50 candidates, totalling 250 fits\n",
      "Fitting 5 folds for each of 50 candidates, totalling 250 fits\n",
      "4:\n",
      "Cross Validation accuracy scores: [-0.117506   -0.12076053 -0.11956149 -0.12658445 -0.11906801]\n",
      "Cross Validation accuracy: -0.121 +/- 0.003\n",
      "Best Parameters: {'max_iter': 750, 'alpha': 0.8163265306122449}\n",
      "Score for cutoff 4: 0.595952633789794\n",
      "Confusion Matrix for cutoff 4: [[22662   885]\n",
      " [  954  4688]]\n",
      "ROC AUC Score for cutoff 4: 0.9794305887685361\n",
      "F1 score for cutoff 4: 0.8985153763648857\n",
      "Accuracy for cutoff 4: 0.9369968138682381\n",
      "ROC CURVE\n"
     ]
    },
    {
     "data": {
      "image/png": "[encoded data removed]",
      "text/plain": [
       "<Figure size 432x288 with 1 Axes>"
      ]
     },
     "metadata": {
      "needs_background": "light"
     },
     "output_type": "display_data"
    }
   ],
   "source": [
    "# run through cutoffs and report scores\n",
    "for i in range(1,5):\n",
    "    # perform classification around a cutoff\n",
    "    df_train['Estimated Targets'] = targets(i)\n",
    "    y_train = df_train['Estimated Targets']\n",
    "    \n",
    "    # find the parameters best for model\n",
    "    mod = RandomizedSearchCV(Perceptron(random_state=0),\n",
    "                           {'alpha' : np.linspace(0, 10, 50),\n",
    "                            'max_iter' : [500, 550,750,1000]\n",
    "                            },cv=5, scoring=\"r2\",verbose=1,n_jobs=-1, \n",
    "                             n_iter=50, random_state = 0\n",
    "                           )\n",
    "    # fit and predict using these best params\n",
    "    mod.fit(X_train_vectorized,y_train)\n",
    "    mod.predict(X_train_vectorized[:2, :])\n",
    "    \n",
    "    # obtain confusion matrix and other specified values\n",
    "    y_pred = mod.predict(X_train_vectorized)\n",
    "    c = confusion_matrix(y_train, y_pred)\n",
    "    m = mod.score(X_train_vectorized, y_train)\n",
    "    r = roc_auc_score(y_train, mod.decision_function(X_train_vectorized))\n",
    "    f = f1_score(y_train, y_pred, average='macro')\n",
    "    a = accuracy_score(y_train, y_pred)\n",
    "    scores = cross_val_score(mod, X_train_vectorized, y_pred, scoring='neg_mean_squared_error',\n",
    "                         cv=cv, n_jobs=-1)\n",
    "    \n",
    "    # print the values I want\n",
    "    print(str(i) + \":\")\n",
    "    print('Cross Validation accuracy scores: %s' % scores)\n",
    "    print('Cross Validation accuracy: %.3f +/- %.3f' % (np.mean(scores),np.std(scores)))\n",
    "   \n",
    "    print('Best Parameters: ' + str(mod.best_params_))\n",
    "    print(\"Score for cutoff \" + str(i) + \": \" + str(m))\n",
    "    print(\"Confusion Matrix for cutoff \" + str(i) + \": \" + str(c))\n",
    "    print(\"ROC AUC Score for cutoff \" + str(i) + \": \" + str(r))\n",
    "    print(\"F1 score for cutoff \" + str(i) + \": \" + str(f))\n",
    "    print(\"Accuracy for cutoff \" + str(i) + \": \" + str(a))\n",
    "\n",
    "    print(\"ROC CURVE\")\n",
    "    RocCurveDisplay.from_predictions(y_train, y_pred) \n",
    "    plt.show()"
   ]
  },
  {
   "cell_type": "markdown",
   "id": "9323faf4",
   "metadata": {},
   "source": [
    "A note on model parameters: certain model parameters help the model itself based on how \"good\" it is working with your specific data set. Based on my data collection and reported metrics, it appears that the Perceptron has the best model parameters to report the most accurate predicted values. The hyperparameter tuning works based on the model and the data we give to the model to optimize the performance in terms of time and accuracy. Here, the perceptron works fastest and most accurretly. This may be because I can give the RandomEstimator more iterations with the Perceptron and it won't time out, but it may also just be that the model does find the best fit for the data."
   ]
  },
  {
   "cell_type": "markdown",
   "id": "6a1cc1de",
   "metadata": {},
   "source": [
    "# Multiclass Classification"
   ]
  },
  {
   "cell_type": "markdown",
   "id": "ae1af3a4",
   "metadata": {},
   "source": [
    "## Multiclass Classification: Logistic Regression\n",
    "Again, please scroll past errors in the output. It still produces the desired output it just maxes out time/iterations."
   ]
  },
  {
   "cell_type": "code",
   "execution_count": 11,
   "id": "2103d6fe",
   "metadata": {},
   "outputs": [
    {
     "name": "stdout",
     "output_type": "stream",
     "text": [
      "Fitting 5 folds for each of 10 candidates, totalling 50 fits\n",
      "Cross Validation accuracy scores: [-1.91952055 -2.11472603 -2.0119863  -1.97084048 -1.74271012] - these would make the best hyperparamters for the model\n",
      "Cross Validation accuracy: -1.952 +/- 0.123 - this would make the best hyperparameter for the model\n",
      "Best Parameters: {'max_iter': 1500, 'C': 0.8163265306122449}\n",
      "Score: 0.9737338928102915\n",
      "Confusion Matrix: [[577   2   0   0   2]\n",
      " [  2 602   1   1   5]\n",
      " [  2   3 565   1   6]\n",
      " [  1   0   1 560  19]\n",
      " [  0   0   0   1 567]]\n",
      "ROC AUC Score for cutoff 4: 0.999512334627477\n",
      "F1 score: 0.9838545443794967\n",
      "Accuracy: 0.9838930774503084\n",
      "The classification Output:\n",
      "              precision    recall  f1-score   support\n",
      "\n",
      "           1       0.99      0.99      0.99       581\n",
      "           2       0.99      0.99      0.99       611\n",
      "           3       1.00      0.98      0.99       577\n",
      "           4       0.99      0.96      0.98       581\n",
      "           5       0.95      1.00      0.97       568\n",
      "\n",
      "    accuracy                           0.98      2918\n",
      "   macro avg       0.98      0.98      0.98      2918\n",
      "weighted avg       0.98      0.98      0.98      2918\n",
      "\n"
     ]
    },
    {
     "name": "stderr",
     "output_type": "stream",
     "text": [
      "/Users/talsternberg/opt/anaconda3/lib/python3.8/site-packages/sklearn/metrics/_ranking.py:999: UndefinedMetricWarning: No positive samples in y_true, true positive value should be meaningless\n",
      "  warnings.warn(\n"
     ]
    },
    {
     "data": {
      "image/png": "[encoded data removed]",
      "text/plain": [
       "<Figure size 432x288 with 1 Axes>"
      ]
     },
     "metadata": {
      "needs_background": "light"
     },
     "output_type": "display_data"
    }
   ],
   "source": [
    "# the targets are now just the overall\n",
    "y_train = df_train['overall']\n",
    "\n",
    "# split the data for logistic regression to run\n",
    "X_train_use, X_test_use, y_train_use, y_test_use = train_test_split(X_train_vectorized, y_train, test_size=0.90)\n",
    "\n",
    "\n",
    "# perform logistic regression \n",
    "mod = RandomizedSearchCV(LogisticRegression(random_state=0),\n",
    "                           {'C' : np.linspace(0, 10, 50),\n",
    "                            'max_iter': [500,1000,1500,2000]\n",
    "                            },cv=5, scoring=\"r2\",verbose=1,n_jobs=-1, \n",
    "                             n_iter=10, random_state = 0\n",
    "                           )\n",
    "mod.fit(X_train_use,y_train_use)\n",
    "mod.predict(X_train_use[:2, :])\n",
    "    \n",
    "# obtain confusion matrix, predicted y, scores, roc-auc, f1, accuracy, and scores from cross validation\n",
    "y_pred = mod.predict(X_train_use)\n",
    "y_pred_p = mod.predict_proba(X_train_use)\n",
    "c = confusion_matrix(y_train_use, y_pred)\n",
    "m = mod.score(X_train_use, y_train_use)\n",
    "r = roc_auc_score(y_train_use, mod.predict_proba(X_train_use),multi_class='ovo')\n",
    "f = f1_score(y_train_use, y_pred, average='macro')\n",
    "a = accuracy_score(y_train_use, y_pred)\n",
    "scores = cross_val_score(mod, X_train_use, y_pred, scoring='neg_mean_squared_error',\n",
    "                         cv=cv, n_jobs=-1)\n",
    " \n",
    "# print cross validation scores and accuracy\n",
    "print('Cross Validation accuracy scores: %s' % scores + \" - these would make the best hyperparamters for the model\")\n",
    "print('Cross Validation accuracy: %.3f +/- %.3f' % (np.mean(scores),np.std(scores)) + \" - this would make the best hyperparameter for the model\")\n",
    "   \n",
    "# print all desired scores\n",
    "print('Best Parameters: ' + str(mod.best_params_))\n",
    "print(\"Score: \" + str(m))\n",
    "print(\"Confusion Matrix: \" + str(c))\n",
    "print(\"ROC AUC Score for cutoff \" + str(i) + \": \" + str(r))\n",
    "print(\"F1 score: \" + str(f))\n",
    "print(\"Accuracy: \" + str(a))\n",
    "\n",
    "# metrics output\n",
    "print(\"The classification Output:\")\n",
    "print(metrics.classification_report(y_train_use, y_pred))\n",
    "\n",
    "\n",
    "# plotting the ROC\n",
    "fpr = {}\n",
    "tpr = {}\n",
    "thresh ={}\n",
    "\n",
    "n_class = 5\n",
    "\n",
    "for i in range(n_class):    \n",
    "    fpr[i], tpr[i], thresh[i] = roc_curve(y_train_use, y_pred_p[:,i], pos_label=i)\n",
    "    \n",
    "# plotting    \n",
    "plt.plot(fpr[0], tpr[0], linestyle='--',color='orange', label='Class 0 vs Rest')\n",
    "plt.plot(fpr[1], tpr[1], linestyle='--',color='green', label='Class 1 vs Rest')\n",
    "plt.plot(fpr[2], tpr[2], linestyle='--',color='blue', label='Class 2 vs Rest')\n",
    "plt.plot(fpr[3], tpr[3], linestyle='--',color='purple', label='Class 3 vs Rest')\n",
    "plt.plot(fpr[4], tpr[4], linestyle='--',color='red', label='Class 4 vs Rest')\n",
    "\n",
    "plt.title('Multiclass ROC curve')\n",
    "plt.xlabel('False Positive Rate')\n",
    "plt.ylabel('True Positive rate')\n",
    "plt.legend(loc='best')\n",
    "plt.savefig('Multiclass ROC',dpi=300); \n",
    "\n"
   ]
  },
  {
   "cell_type": "markdown",
   "id": "789f0a2c",
   "metadata": {},
   "source": [
    "## Multiclass Classification:  Ridge Classifier"
   ]
  },
  {
   "cell_type": "code",
   "execution_count": 13,
   "id": "dfc541b9",
   "metadata": {},
   "outputs": [
    {
     "name": "stdout",
     "output_type": "stream",
     "text": [
      "Fitting 5 folds for each of 20 candidates, totalling 100 fits\n",
      "Cross Validation accuracy scores: [-1.82191781 -2.09075342 -2.23287671 -1.93825043 -2.23156089]\n",
      "Cross Validation accuracy: -2.063 +/- 0.162\n",
      "Best Parameters: {'max_iter': 1500, 'alpha': 9.183673469387756}\n",
      "Score: 0.9548251129375143\n",
      "Confusion Matrix: [[597   3   3   1   4]\n",
      " [  8 557   4   1   4]\n",
      " [  6   1 592   2   9]\n",
      " [  0   0   5 542  29]\n",
      " [  1   0   1   4 544]]\n",
      "F1 score: 0.9703515411894397\n",
      "Accuracy: 0.9705277587388622\n",
      "              precision    recall  f1-score   support\n",
      "\n",
      "           1       0.98      0.98      0.98       608\n",
      "           2       0.99      0.97      0.98       574\n",
      "           3       0.98      0.97      0.97       610\n",
      "           4       0.99      0.94      0.96       576\n",
      "           5       0.92      0.99      0.95       550\n",
      "\n",
      "    accuracy                           0.97      2918\n",
      "   macro avg       0.97      0.97      0.97      2918\n",
      "weighted avg       0.97      0.97      0.97      2918\n",
      "\n",
      "ROC AUC Score: 0.9554761098731867\n"
     ]
    },
    {
     "name": "stderr",
     "output_type": "stream",
     "text": [
      "/Users/talsternberg/opt/anaconda3/lib/python3.8/site-packages/sklearn/metrics/_ranking.py:999: UndefinedMetricWarning: No positive samples in y_true, true positive value should be meaningless\n",
      "  warnings.warn(\n"
     ]
    },
    {
     "data": {
      "image/png": "[encoded data removed]",
      "text/plain": [
       "<Figure size 432x288 with 1 Axes>"
      ]
     },
     "metadata": {
      "needs_background": "light"
     },
     "output_type": "display_data"
    }
   ],
   "source": [
    "# define the model and the training data\n",
    "y_train = df_train['overall']\n",
    "\n",
    "# split the data to not time out\n",
    "X_train_use, X_test_use, y_train_use, y_test_use = train_test_split(X_train_vectorized, y_train, test_size=0.90)\n",
    "\n",
    "\n",
    "# use the model as an estimator w randomsearch\n",
    "mod = RandomizedSearchCV(RidgeClassifier(random_state=0),\n",
    "                           {'alpha' : np.linspace(0, 10, 50),\n",
    "                            'max_iter' : [500, 1000,1500, 2000]\n",
    "                            },cv=5, scoring=\"r2\",verbose=1,n_jobs=-1, \n",
    "                             n_iter=20, random_state = 0\n",
    "                           )\n",
    "# make a model with the best hyperparameters\n",
    "mod.fit(X_train_use,y_train_use)\n",
    "mod.predict(X_train_use[:2, :])\n",
    "\n",
    "\n",
    "# obtain confusion matrix, predicted y, scores, roc-auc, f1, accuracy, and scores from cross validation\n",
    "y_pred = mod.predict(X_train_use)\n",
    "c = confusion_matrix(y_train_use, y_pred)\n",
    "m = mod.score(X_train_use, y_train_use)\n",
    "f = f1_score(y_train_use, y_pred, average='macro')\n",
    "a = accuracy_score(y_train_use, y_pred)\n",
    "scores = cross_val_score(mod, X_train_use, y_pred, scoring='neg_mean_squared_error',\n",
    "                         cv=cv, n_jobs=-1)\n",
    "\n",
    "# print the cross validation scores and accuracy\n",
    "print('Cross Validation accuracy scores: %s' % scores)\n",
    "print('Cross Validation accuracy: %.3f +/- %.3f' % (np.mean(scores),np.std(scores)))  \n",
    "\n",
    "# print the desired values\n",
    "print('Best Parameters: ' + str(mod.best_params_))\n",
    "print(\"Score: \" + str(m))\n",
    "print(\"Confusion Matrix: \" + str(c))\n",
    "print(\"F1 score: \" + str(f))\n",
    "print(\"Accuracy: \" + str(a))\n",
    "\n",
    "# print the metrics\n",
    "print(metrics.classification_report(y_train_use, y_pred))\n",
    "\n",
    "\n",
    "# retain this model to get the ROC -- incompatibility with Random due to predict proba\n",
    "model=Perceptron(max_iter=1000)\n",
    "y_train = df_train['overall']\n",
    "# use the model\n",
    "mod = model.fit(X_train_vectorized,y_train)    \n",
    "y_pred_p = mod._predict_proba_lr(X_train_vectorized)\n",
    "r = roc_auc_score(y_train, y_pred_p,multi_class='ovr')\n",
    "print(\"ROC AUC Score: \" + str(r))\n",
    "\n",
    "\n",
    "# plot the ROC curves\n",
    "fpr = {}\n",
    "tpr = {}\n",
    "thresh ={}\n",
    "\n",
    "n_class = 5\n",
    "\n",
    "for i in range(n_class):    \n",
    "    fpr[i], tpr[i], thresh[i] = roc_curve(y_train, y_pred_p[:,i], pos_label=i)\n",
    "    \n",
    "# plotting    \n",
    "plt.plot(fpr[0], tpr[0], linestyle='--',color='orange', label='Class 0 vs Rest')\n",
    "plt.plot(fpr[1], tpr[1], linestyle='--',color='green', label='Class 1 vs Rest')\n",
    "plt.plot(fpr[2], tpr[2], linestyle='--',color='blue', label='Class 2 vs Rest')\n",
    "plt.plot(fpr[3], tpr[3], linestyle='--',color='purple', label='Class 3 vs Rest')\n",
    "plt.plot(fpr[4], tpr[4], linestyle='--',color='red', label='Class 4 vs Rest')\n",
    "\n",
    "plt.title('Multiclass ROC curve')\n",
    "plt.xlabel('False Positive Rate')\n",
    "plt.ylabel('True Positive rate')\n",
    "plt.legend(loc='best')\n",
    "plt.savefig('Multiclass ROC',dpi=300); \n"
   ]
  },
  {
   "cell_type": "markdown",
   "id": "fe36fda2",
   "metadata": {},
   "source": [
    "## Multiclass Classification: Perceptron"
   ]
  },
  {
   "cell_type": "code",
   "execution_count": 14,
   "id": "d4c4db6b",
   "metadata": {},
   "outputs": [
    {
     "name": "stdout",
     "output_type": "stream",
     "text": [
      "Fitting 5 folds for each of 50 candidates, totalling 250 fits\n",
      "Cross Validation accuracy scores: [-2.15239726 -1.96232877 -1.79965753 -1.91080617 -1.91080617]\n",
      "Cross Validation accuracy: -1.947 +/- 0.116\n",
      "Best Parameters: {'max_iter': 1500, 'alpha': 0.8163265306122449}\n",
      "Score: 0.9732196987760471\n",
      "Confusion Matrix: [[602   1   0   0   1]\n",
      " [  0 621   1   0   6]\n",
      " [  0   1 562   2  10]\n",
      " [  1   1   0 571  14]\n",
      " [  0   0   2   3 519]]\n",
      "F1 score: 0.9847831775466005\n",
      "Accuracy: 0.9852638793694312\n",
      "              precision    recall  f1-score   support\n",
      "\n",
      "           1       1.00      1.00      1.00       604\n",
      "           2       1.00      0.99      0.99       628\n",
      "           3       0.99      0.98      0.99       575\n",
      "           4       0.99      0.97      0.98       587\n",
      "           5       0.94      0.99      0.97       524\n",
      "\n",
      "    accuracy                           0.99      2918\n",
      "   macro avg       0.98      0.99      0.98      2918\n",
      "weighted avg       0.99      0.99      0.99      2918\n",
      "\n",
      "ROC AUC Score: 0.9554761098731867\n"
     ]
    },
    {
     "name": "stderr",
     "output_type": "stream",
     "text": [
      "/Users/talsternberg/opt/anaconda3/lib/python3.8/site-packages/sklearn/metrics/_ranking.py:999: UndefinedMetricWarning: No positive samples in y_true, true positive value should be meaningless\n",
      "  warnings.warn(\n"
     ]
    },
    {
     "data": {
      "image/png": "[encoded data removed]",
      "text/plain": [
       "<Figure size 432x288 with 1 Axes>"
      ]
     },
     "metadata": {
      "needs_background": "light"
     },
     "output_type": "display_data"
    }
   ],
   "source": [
    "# define the model and the training data\n",
    "y_train = df_train['overall']\n",
    "\n",
    "# split the data to not time out\n",
    "X_train_use, X_test_use, y_train_use, y_test_use = train_test_split(X_train_vectorized, y_train, test_size=0.90)\n",
    "\n",
    "\n",
    "# use the model as an estimator w randomsearch\n",
    "mod = RandomizedSearchCV(Perceptron(random_state=0),\n",
    "                           {'alpha' : np.linspace(0, 10, 50),\n",
    "                            'max_iter' : [500, 1000,1500, 2000]\n",
    "                            },cv=5, scoring=\"r2\",verbose=1,n_jobs=-1, \n",
    "                             n_iter=50, random_state = 0\n",
    "                           )\n",
    "# make a model with the best hyperparameters\n",
    "mod.fit(X_train_use,y_train_use)\n",
    "mod.predict(X_train_use[:2, :])\n",
    "\n",
    "    \n",
    "# obtain confusion matrix, predicted y, scores, roc-auc, f1, accuracy, and scores from cross validation\n",
    "y_pred = mod.predict(X_train_use)\n",
    "c = confusion_matrix(y_train_use, y_pred)\n",
    "m = mod.score(X_train_use, y_train_use)\n",
    "f = f1_score(y_train_use, y_pred, average='macro')\n",
    "a = accuracy_score(y_train_use, y_pred)\n",
    "scores = cross_val_score(mod, X_train_use, y_pred, scoring='neg_mean_squared_error',\n",
    "                         cv=cv, n_jobs=-1)\n",
    "\n",
    "# print the cross validation scores and accuracy\n",
    "print('Cross Validation accuracy scores: %s' % scores)\n",
    "print('Cross Validation accuracy: %.3f +/- %.3f' % (np.mean(scores),np.std(scores)))  \n",
    "\n",
    "# print the desired values\n",
    "print('Best Parameters: ' + str(mod.best_params_))\n",
    "print(\"Score: \" + str(m))\n",
    "print(\"Confusion Matrix: \" + str(c))\n",
    "print(\"F1 score: \" + str(f))\n",
    "print(\"Accuracy: \" + str(a))\n",
    "\n",
    "# print the metrics\n",
    "print(metrics.classification_report(y_train_use, y_pred))\n",
    "\n",
    "\n",
    "\n",
    "# retain this model to get the ROC -- incompatibility with Random due to predict proba\n",
    "model=Perceptron(max_iter=1000)\n",
    "y_train = df_train['overall']\n",
    "# use the model\n",
    "mod = model.fit(X_train_vectorized,y_train)    \n",
    "y_pred_p = mod._predict_proba_lr(X_train_vectorized)\n",
    "r = roc_auc_score(y_train, y_pred_p,multi_class='ovr')\n",
    "print(\"ROC AUC Score: \" + str(r))\n",
    "\n",
    "\n",
    "# plot the ROC curves\n",
    "fpr = {}\n",
    "tpr = {}\n",
    "thresh ={}\n",
    "\n",
    "n_class = 5\n",
    "\n",
    "for i in range(n_class):    \n",
    "    fpr[i], tpr[i], thresh[i] = roc_curve(y_train, y_pred_p[:,i], pos_label=i)\n",
    "    \n",
    "# plotting    \n",
    "plt.plot(fpr[0], tpr[0], linestyle='--',color='orange', label='Class 0 vs Rest')\n",
    "plt.plot(fpr[1], tpr[1], linestyle='--',color='green', label='Class 1 vs Rest')\n",
    "plt.plot(fpr[2], tpr[2], linestyle='--',color='blue', label='Class 2 vs Rest')\n",
    "plt.plot(fpr[3], tpr[3], linestyle='--',color='purple', label='Class 3 vs Rest')\n",
    "plt.plot(fpr[4], tpr[4], linestyle='--',color='red', label='Class 4 vs Rest')\n",
    "\n",
    "plt.title('Multiclass ROC curve')\n",
    "plt.xlabel('False Positive Rate')\n",
    "plt.ylabel('True Positive rate')\n",
    "plt.legend(loc='best')\n",
    "plt.savefig('Multiclass ROC',dpi=300); \n"
   ]
  },
  {
   "cell_type": "markdown",
   "id": "e6b0f5e4",
   "metadata": {},
   "source": [
    "Overall, the model parameters in the Perceptron seem to work best with multiclass classification from this dataset based on its ability to accurately predict the class of a given review. It also works remarkably faster such that n_iter can be double what it is for the other classifiers and it won't time out."
   ]
  },
  {
   "cell_type": "markdown",
   "id": "d151824e",
   "metadata": {},
   "source": [
    "A note on the ROC curves: Soroush told me that it is okay that the class 0 is not appearing because it just means there's not enough 1 star reviews to be classified as such the way my models are built. He said this is okay."
   ]
  },
  {
   "cell_type": "markdown",
   "id": "cbd94f76",
   "metadata": {},
   "source": [
    "# Clustering"
   ]
  },
  {
   "cell_type": "code",
   "execution_count": 15,
   "id": "35313fa7",
   "metadata": {},
   "outputs": [
    {
     "name": "stdout",
     "output_type": "stream",
     "text": [
      "silhouette score: 0.26725081307476384\n",
      "Rand index: 0.5087202588229484\n"
     ]
    }
   ],
   "source": [
    "from sklearn.cluster import KMeans\n",
    "from sklearn.metrics.cluster import rand_score\n",
    "from sklearn.metrics.cluster import silhouette_score\n",
    "\n",
    "# training/true set\n",
    "labels_true = df_test[\"category\"]\n",
    "\n",
    "\n",
    "# find a list of all the catagories and remove duplicates\n",
    "clusters = df_test[\"category\"]\n",
    "clusters = list(set(clusters))\n",
    "n = len(clusters)\n",
    "\n",
    "# define and fit using the clusterer\n",
    "clusterer = KMeans(n_clusters=n, random_state=10, max_iter=1000)\n",
    "cluster_labels = clusterer.fit_predict(X_test_vectorized)\n",
    "\n",
    "# obtain metrics needed and print\n",
    "silhouette_avg = silhouette_score(X_test_vectorized, cluster_labels)\n",
    "rand_index = rand_score(labels_true, cluster_labels)\n",
    "print(\"silhouette score: \" + str(silhouette_avg))\n",
    "print(\"Rand index: \" + str(rand_index))"
   ]
  },
  {
   "cell_type": "markdown",
   "id": "74deae61",
   "metadata": {},
   "source": [
    "These values are pretty bad (Silouhette score should be around 1 to be good and Rand ind below 0.65 implies the model is not a great fit)"
   ]
  },
  {
   "cell_type": "markdown",
   "id": "55b8fe79",
   "metadata": {},
   "source": [
    "# The end!"
   ]
  }
 ],
 "metadata": {
  "kernelspec": {
   "display_name": "Python 3 (ipykernel)",
   "language": "python",
   "name": "python3"
  },
  "language_info": {
   "codemirror_mode": {
    "name": "ipython",
    "version": 3
   },
   "file_extension": ".py",
   "mimetype": "text/x-python",
   "name": "python",
   "nbconvert_exporter": "python",
   "pygments_lexer": "ipython3",
   "version": "3.8.8"
  }
 },
 "nbformat": 4,
 "nbformat_minor": 5
}
