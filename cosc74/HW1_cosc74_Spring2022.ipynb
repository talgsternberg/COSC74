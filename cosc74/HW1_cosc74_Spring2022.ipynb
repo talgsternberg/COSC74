{
 "cells": [
  {
   "cell_type": "markdown",
   "metadata": {},
   "source": [
    "# HW1  Try out gradient descent"
   ]
  },
  {
   "cell_type": "markdown",
   "metadata": {},
   "source": [
    "## Due Monday April 25th, 2022 at 11:59PM"
   ]
  },
  {
   "cell_type": "markdown",
   "metadata": {},
   "source": [
    "You should submit this jupyter notebook with your solutions. The solutions should include the code and also the output of all the cells.\n",
    "\n",
    "Note that for the problmes that require a cost function as input you should always use the most recent cost function that you have implemented (unless specified otherwise)."
   ]
  },
  {
   "cell_type": "markdown",
   "metadata": {},
   "source": [
    "1) [5 points] Calculate the derivative of following cost function and write it down:\n",
    "\n",
    "$g(w) = \\frac{1}{50}\\left(w^4 + w^2 + 10w - 50 \\right)$"
   ]
  },
  {
   "cell_type": "markdown",
   "metadata": {},
   "source": [
    "$\\frac{\\partial}{\\partial w}g(w) = (2/25)w^3+(1/25)w+(1/5)$"
   ]
  },
  {
   "cell_type": "markdown",
   "metadata": {},
   "source": [
    "2) [25 points] Implement the gradient descent function as discussed in class using the gradient derived in the last problem. The function should return the cost history for each step. Use the code template below:\n"
   ]
  },
  {
   "cell_type": "code",
   "execution_count": 1,
   "metadata": {},
   "outputs": [],
   "source": [
    "#gradient descent function\n",
    "#inputs: alpha (learning rate parameter), max_its (maximum number of iterations), w0 (initialization)\n",
    "def gradient_descent(alpha,max_its,w0):\n",
    "    ##Your code here\n",
    "    weight_history = [w0]\n",
    "    curr_val = float(w0)\n",
    "    starting_cost = (0.002*curr_val**4) + (0.002*curr_val**2) + (0.02*curr_val) - 1\n",
    "    cost_history = [starting_cost]\n",
    "    \n",
    "    for i in range(1,max_its):\n",
    "        step = (0.08*(curr_val**3)) + (0.04*(curr_val)) + (0.2)\n",
    "        new_val = curr_val - (alpha*step)\n",
    "        curr_val = new_val\n",
    "        curr_cost = (0.002*curr_val**4) + (0.002*curr_val**2) + (0.02*curr_val) - 1\n",
    "        weight_history.append(curr_val)\n",
    "        cost_history.append(curr_cost)\n",
    "                      \n",
    "    return cost_history"
   ]
  },
  {
   "cell_type": "markdown",
   "metadata": {},
   "source": [
    "3) [10 points] Run the gradient_descent function you implemented three times, with the following parameters. Generate a single plot showing the cost as a function of step number for all three runs (combine all three runs into a single plot). If you are not familiar with plotting in python, here is the docs for matplotlib:(https://matplotlib.org/3.2.1/api/_as_gen/matplotlib.pyplot.plot.html#matplotlib.pyplot.plot). \n",
    "\n",
    "\n",
    "$w^0$ = 2.0\n",
    "max_its = 1000\n",
    "\n",
    "# first run\n",
    "alpha = 1\n",
    "# second run\n",
    "alpha = 0.1\n",
    "# third run\n",
    "alpha = 0.01\n"
   ]
  },
  {
   "cell_type": "code",
   "execution_count": 2,
   "metadata": {},
   "outputs": [
    {
     "name": "stdout",
     "output_type": "stream",
     "text": [
      "first run: blue \n",
      "second run: red \n",
      "third run: green \n"
     ]
    },
    {
     "data": {
      "text/plain": [
       "[<matplotlib.lines.Line2D at 0x7fde2aaa1e50>]"
      ]
     },
     "execution_count": 2,
     "metadata": {},
     "output_type": "execute_result"
    },
    {
     "data": {
      "image/png": "[encoded data removed]",
      "text/plain": [
       "<Figure size 432x288 with 1 Axes>"
      ]
     },
     "metadata": {
      "needs_background": "light"
     },
     "output_type": "display_data"
    }
   ],
   "source": [
    "import matplotlib.pyplot as plt\n",
    "# %matplotlib inline # To keep your plots embedded\n",
    "\n",
    "##Your code here\n",
    "\n",
    "step_nums = range(0,1000)\n",
    "\n",
    "print(\"first run: blue \")\n",
    "first = gradient_descent(1,1000,2)\n",
    "plt.plot(step_nums, first)\n",
    "\n",
    "\n",
    "print(\"second run: red \")\n",
    "second = gradient_descent(0.1,1000,2)\n",
    "plt.plot(step_nums, second, color='red')\n",
    "\n",
    "print(\"third run: green \")\n",
    "third = gradient_descent(0.01,1000,2)\n",
    "plt.plot(step_nums, third, color='green')\n",
    "\n"
   ]
  },
  {
   "cell_type": "markdown",
   "metadata": {},
   "source": [
    "For the next few problems we will be comparing fixed and diminishing learning rates"
   ]
  },
  {
   "cell_type": "markdown",
   "metadata": {},
   "source": [
    "Take the following cost function:\n",
    "\\begin{equation}\n",
    "g(w) = \\left \\vert w \\right \\vert\n",
    "\\end{equation}"
   ]
  },
  {
   "cell_type": "markdown",
   "metadata": {},
   "source": [
    "4) [5 points] Is this function convex? If no, why not? If yes, where is its global minimum?\n",
    "\n",
    "Yes it is convex. Its global minimum is at the sharp point -- where w=0"
   ]
  },
  {
   "cell_type": "markdown",
   "metadata": {},
   "source": [
    "5) [5 points] What is the derivative of the cost function? \n",
    "\n",
    "It is non differentiable so the derivative equals -1 from -inf<w<0, undefined at w=0, and +1 from 0<w<inf"
   ]
  },
  {
   "cell_type": "markdown",
   "metadata": {},
   "source": [
    "6) [20 points] Rewrite the gradient descent function from question 2 such that it takes the cost funciton g as input and uses the autograd library to calculate the gradient. The function should return the weight and cost history for each step. Use the code template below.\n",
    "\n",
    "autograd is a python package for automatic calculation of the gradient. Here is a tutorial on it: (http://www.cs.toronto.edu/~rgrosse/courses/csc321_2017/tutorials/tut4.pdf\n",
    "\n",
    "Note that in Python you can pass functions around like any other variables. That is why you can pass the cost function g to the gradient_descent function. \n",
    "\n",
    "You should be able to install it by running \"pip install autograd\" in a cell in your Jupyter notebook."
   ]
  },
  {
   "cell_type": "code",
   "execution_count": 159,
   "metadata": {},
   "outputs": [
    {
     "name": "stdout",
     "output_type": "stream",
     "text": [
      "Requirement already satisfied: autograd in /Users/talsternberg/opt/anaconda3/lib/python3.8/site-packages (1.4)\n",
      "Requirement already satisfied: numpy>=1.12 in /Users/talsternberg/opt/anaconda3/lib/python3.8/site-packages (from autograd) (1.20.3)\n",
      "Requirement already satisfied: future>=0.15.2 in /Users/talsternberg/opt/anaconda3/lib/python3.8/site-packages (from autograd) (0.18.2)\n",
      "Note: you may need to restart the kernel to use updated packages.\n"
     ]
    }
   ],
   "source": [
    "pip install autograd"
   ]
  },
  {
   "cell_type": "code",
   "execution_count": 3,
   "metadata": {},
   "outputs": [],
   "source": [
    "from autograd import grad \n",
    "\n",
    "#gradient descent function\n",
    "#inputs: g (cost function), alpha (learning rate parameter), max_its (maximum number of iterations), w (initialization)\n",
    "def gradient_descent(g,alpha,max_its,w0):\n",
    "    gradient = grad(g)   ## This is how you use the autograd library to find the gradient of a function  \n",
    "    weight_history = [w0]\n",
    "    curr_val = float(w0)\n",
    "    starting_cost = g(curr_val)\n",
    "    cost_history = [starting_cost]\n",
    "    \n",
    "    for i in range(1,max_its):\n",
    "        # define a new and previous value using a step\n",
    "        step = gradient(curr_val)\n",
    "        new_val = curr_val - alpha*step\n",
    "        curr_val = new_val\n",
    "        curr_cost = g(curr_val)\n",
    "        weight_history.append(curr_val)\n",
    "        cost_history.append(curr_cost)\n",
    "    \n",
    "    \n",
    "    return weight_history,cost_history\n"
   ]
  },
  {
   "cell_type": "markdown",
   "metadata": {},
   "source": [
    "7) [10 points] Make a run of max_its=20 steps of gradient descent with initialization at the point $w^0 = 1.75$, and a fixed learning rate of $\\alpha = 0.5$. Using the cost and weight history, plot the cost as a function of the weight for each step (cost on y-axis, weight on x-axis). Recall that the terms weight and parameter used interchangeably and both refer to w."
   ]
  },
  {
   "cell_type": "code",
   "execution_count": 4,
   "metadata": {},
   "outputs": [
    {
     "data": {
      "text/plain": [
       "<matplotlib.collections.PathCollection at 0x7fde189d5f70>"
      ]
     },
     "execution_count": 4,
     "metadata": {},
     "output_type": "execute_result"
    },
    {
     "data": {
      "image/png": "[encoded data removed]",
      "text/plain": [
       "<Figure size 432x288 with 1 Axes>"
      ]
     },
     "metadata": {
      "needs_background": "light"
     },
     "output_type": "display_data"
    }
   ],
   "source": [
    "def g(x):\n",
    "    g = abs(x)\n",
    "    return g\n",
    "\n",
    "grad = gradient_descent(g,0.5,20,1.75)\n",
    "\n",
    "plt.scatter(grad[0], grad[1])"
   ]
  },
  {
   "cell_type": "markdown",
   "metadata": {},
   "source": [
    "8) [15 points] Make a run of max_its=20 steps of gradient descent with initialization at the point $w^0 = 1.75$, using the diminishing rule $\\alpha = \\frac{1}{k}$ (for this you have to modify the gradient_descent function slightly. Use the code template below. Using the cost and wiehgt history, plot the cost as a function of the weight for each step (cost on y-axis, weight on x-axis)"
   ]
  },
  {
   "cell_type": "code",
   "execution_count": 6,
   "metadata": {},
   "outputs": [
    {
     "data": {
      "text/plain": [
       "<matplotlib.collections.PathCollection at 0x7fdde003e700>"
      ]
     },
     "execution_count": 6,
     "metadata": {},
     "output_type": "execute_result"
    },
    {
     "data": {
      "image/png": "[encoded data removed]",
      "text/plain": [
       "<Figure size 432x288 with 1 Axes>"
      ]
     },
     "metadata": {
      "needs_background": "light"
     },
     "output_type": "display_data"
    }
   ],
   "source": [
    "from autograd import grad \n",
    "\n",
    "#gradient descent function\n",
    "#inputs: g (cost function), alpha (learning rate parameter), max_its (maximum number of iterations), w (initialization)\n",
    "def gradient_descent_diminishing(g,alpha,max_its,w0):\n",
    "    gradient = grad(g)   ## This is how you use the autograd library to find the gradient of a function  \n",
    "    \n",
    "    weight_history = [w0]\n",
    "    curr_val = float(w0)\n",
    "    starting_cost = g(curr_val)\n",
    "    cost_history = [starting_cost]\n",
    "    \n",
    "    for i in range(1,max_its):\n",
    "        if alpha == 'diminishing': \n",
    "            step = gradient(curr_val) \n",
    "            new_val = curr_val - (1/i*step)\n",
    "            curr_val = new_val\n",
    "        else:\n",
    "            step = gradient(curr_val) \n",
    "            new_val = curr_val - (alpha*step)\n",
    "            curr_val = new_val\n",
    "        \n",
    "        # new cost, apply new weights\n",
    "        curr_cost = g(curr_val)\n",
    "        weight_history.append(curr_val)\n",
    "        cost_history.append(curr_cost)\n",
    "    return weight_history,cost_history\n",
    "\n",
    "\n",
    "def g(x):\n",
    "    g = abs(x)\n",
    "    return g\n",
    "\n",
    "grad_dim = gradient_descent_diminishing(g,'diminishing',20,1.75)\n",
    "\n",
    "plt.scatter(grad_dim[0], grad_dim[1])\n",
    "\n"
   ]
  },
  {
   "cell_type": "markdown",
   "metadata": {},
   "source": [
    "9) [10 points]  Generate a single plot showing the cost as a function of step number for both runs (combine all  runs into a single plot). Which approach works better? Why ?\n",
    "\n",
    "The approach w the fixed alpha has an oscillating rate and fixed cost and never converges. Diminsihing makes the jump so it does converge and gets to the minimum"
   ]
  },
  {
   "cell_type": "code",
   "execution_count": 9,
   "metadata": {},
   "outputs": [
    {
     "data": {
      "text/plain": [
       "[<matplotlib.lines.Line2D at 0x7fde000bedf0>]"
      ]
     },
     "execution_count": 9,
     "metadata": {},
     "output_type": "execute_result"
    },
    {
     "data": {
      "image/png": "[encoded data removed]",
      "text/plain": [
       "<Figure size 432x288 with 1 Axes>"
      ]
     },
     "metadata": {
      "needs_background": "light"
     },
     "output_type": "display_data"
    }
   ],
   "source": [
    "def g(x):\n",
    "    g = abs(x)\n",
    "    return g\n",
    "\n",
    "grad_dim = gradient_descent_diminishing(g,'diminishing',20,1.75)\n",
    "plt.plot(grad_dim[1],\"red\")\n",
    "\n",
    "grad1 = gradient_descent(g,0.5,20,1.75)\n",
    "plt.plot(grad1[1],\"blue\")\n",
    "\n",
    "\n"
   ]
  },
  {
   "cell_type": "markdown",
   "metadata": {},
   "source": [
    "We will now look at the oscilating behavior of gradient descent. \n",
    "\n",
    "Take the following cost function:\n",
    "$g(w) = w_0^2 + w_1^2 + 2\\sin(1.5 (w_0 + w_1)) +2$\n",
    "\n",
    "Note that this cost function has two parameters."
   ]
  },
  {
   "cell_type": "markdown",
   "metadata": {},
   "source": [
    "10) [5 points] Make sure your gradient descent function from problem 6 can handle cost functions with more than one parameter. You may need to rewrite it if you were not careful. Use the code template below (if your function from problem 6 is good, you can just copy and paste it here)"
   ]
  },
  {
   "cell_type": "code",
   "execution_count": 15,
   "metadata": {},
   "outputs": [],
   "source": [
    "from autograd import grad \n",
    "import autograd.numpy as np\n",
    "\n",
    "\n",
    "#gradient descent function\n",
    "#inputs: g (cost function), alpha (learning rate parameter), max_its (maximum number of iterations), w (initialization)\n",
    "def gradient_descent_mult(g,alpha,max_its,w):\n",
    "    gradient = grad(g)   ## This is how you use the autograd library to find the gradient of a function  \n",
    "    weight_history = [w]\n",
    "    curr_tuple = w\n",
    "    starting_cost = g(curr_tuple)\n",
    "    cost_history = [starting_cost]\n",
    "    \n",
    "    for i in range(1,max_its):\n",
    "        # define a new and previous value using a step\n",
    "        step = gradient(curr_tuple)\n",
    "        \n",
    "        new_w0 = curr_tuple[0] - alpha*step[0]\n",
    "        new_w1 = curr_tuple[1] - alpha*step[1]\n",
    "        curr_tuple = [new_w0,new_w1]\n",
    "        \n",
    "        curr_cost = g(curr_tuple)\n",
    "        weight_history.append(curr_tuple)\n",
    "        cost_history.append(curr_cost)\n",
    "    \n",
    "    \n",
    "    return weight_history,cost_history"
   ]
  },
  {
   "cell_type": "markdown",
   "metadata": {},
   "source": [
    "11) [10 points] Run the gradient_descent function with the cost function above three times with the following parameters. Generate a single plot showing the cost as a function of step number for all three runs (combine all three runs into a single plot). Use the code template below. Which alpha leads to an oscillating behavior?\n",
    "\n",
    "$w^0$ = [3.0,3.0]\n",
    "max_its = 10\n",
    "\n",
    "# first run\n",
    "alpha = 0.01\n",
    "# second run\n",
    "alpha = 0.1\n",
    "# third run\n",
    "alpha = 1 --> this leads to an oscillating behavior\n",
    "\n"
   ]
  },
  {
   "cell_type": "code",
   "execution_count": 16,
   "metadata": {},
   "outputs": [
    {
     "data": {
      "text/plain": [
       "[<matplotlib.lines.Line2D at 0x7fddf8120d30>]"
      ]
     },
     "execution_count": 16,
     "metadata": {},
     "output_type": "execute_result"
    },
    {
     "data": {
      "image/png": "[encoded data removed]",
      "text/plain": [
       "<Figure size 432x288 with 1 Axes>"
      ]
     },
     "metadata": {
      "needs_background": "light"
     },
     "output_type": "display_data"
    }
   ],
   "source": [
    "import autograd.numpy as np\n",
    "#Your code here\n",
    "def g(w):\n",
    "    g = w[0]**2+w[1]**2+2*np.sin((1.5*(w[0]+w[1])))\n",
    "    return g\n",
    "\n",
    "w = [3.0,3.0]\n",
    "one = gradient_descent_mult(g,0.01,10,np.array(w))\n",
    "plt.plot(one[1],color='red')\n",
    "\n",
    "two = gradient_descent_mult(g,0.1,10,np.array(w))\n",
    "plt.plot(two[1],color='blue')\n",
    "\n",
    "three = gradient_descent_mult(g,1,10,np.array(w))\n",
    "plt.plot(three[1],color='green')"
   ]
  },
  {
   "cell_type": "markdown",
   "metadata": {},
   "source": [
    "12) [15 points] This problem is about learning to tune fixed step length for gradient descent. Here, you are given a cost function:\n",
    "$g(w) = 2w_0^2 + w_1^2 +4w_2^2$ \n",
    "\n",
    "Assume your $w^0$= [5,5,5] and your max_iter = 100\n",
    "\n",
    "Use your latest gradient descent function with a fixed learning rate. Play around with at least 5 different values of alpha (using your intuition). Generate a single plot of the cost as a function of the number of iterations. Which value of alpha seems to converge the fastest? --> the red (0.5) value seems to converge the fastest\n",
    "\n",
    "Not that your grade will not depend on how well you do, as long as you try at least 5 different values for alpha and plot them."
   ]
  },
  {
   "cell_type": "code",
   "execution_count": 13,
   "metadata": {},
   "outputs": [
    {
     "data": {
      "text/plain": [
       "[<matplotlib.lines.Line2D at 0x7fa31a1c1940>]"
      ]
     },
     "execution_count": 13,
     "metadata": {},
     "output_type": "execute_result"
    },
    {
     "data": {
      "image/png": "[encoded data removed]",
      "text/plain": [
       "<Figure size 432x288 with 1 Axes>"
      ]
     },
     "metadata": {
      "needs_background": "light"
     },
     "output_type": "display_data"
    }
   ],
   "source": [
    "import matplotlib.pyplot as plt\n",
    "def gradient_descent_tri(g,alpha,max_its,w):\n",
    "    gradient = grad(g)   ## This is how you use the autograd library to find the gradient of a function  \n",
    "    weight_history = [w]\n",
    "    curr_array = w\n",
    "    starting_cost = g(curr_array)\n",
    "    cost_history = [starting_cost]\n",
    "    \n",
    "    for i in range(1,max_its):\n",
    "        # define a new and previous value using a step\n",
    "        step = gradient(curr_array)\n",
    "        \n",
    "        new_w0 = curr_array[0] - alpha*step[0]\n",
    "        new_w1 = curr_array[1] - alpha*step[1]\n",
    "        new_w2 = curr_array[2] - alpha*step[2]\n",
    "        curr_tuple = [new_w0,new_w1,new_w2]\n",
    "        \n",
    "        curr_cost = g(curr_tuple)\n",
    "        weight_history.append(curr_tuple)\n",
    "        cost_history.append(curr_cost)\n",
    "    return weight_history,cost_history\n",
    "\n",
    "\n",
    "def g(w):\n",
    "    g = (2*w[0]**2)+(w[1]**2)+(4*w[2]**2)\n",
    "    return g\n",
    "\n",
    "\n",
    "w = [5.0,5.0,5.0]\n",
    "\n",
    "run_one = gradient_descent_tri(g,0.1,100,np.array(w))\n",
    "plt.plot(run_one[1],color='red')\n",
    "\n",
    "run_two = gradient_descent_tri(g,1,100,np.array(w))\n",
    "plt.plot(run_two[1],color='blue')\n",
    "\n",
    "run_three = gradient_descent_tri(g,5,100,np.array(w))\n",
    "plt.plot(run_three[1],color='green')\n",
    "\n",
    "run_four = gradient_descent_tri(g,10,100,np.array(w))\n",
    "plt.plot(run_four[1],color='purple')\n",
    "\n",
    "run_five = gradient_descent_tri(g,15,100,np.array(w))\n",
    "plt.plot(run_five[1],color='yellow')"
   ]
  },
  {
   "cell_type": "markdown",
   "metadata": {},
   "source": [
    "# Bonus Question!"
   ]
  },
  {
   "cell_type": "markdown",
   "metadata": {},
   "source": [
    "[10 points] This is an open-ended question. Can you find a way to speed up your gradient descent algorithm implemented above? Please provided the code below:"
   ]
  },
  {
   "cell_type": "markdown",
   "metadata": {},
   "source": [
    "I am only looking at every other point from the cost function here to speed it up a little bit. Not super creative but seemed to be the most obvious answer!"
   ]
  },
  {
   "cell_type": "code",
   "execution_count": 6,
   "metadata": {},
   "outputs": [
    {
     "data": {
      "text/plain": [
       "[<matplotlib.lines.Line2D at 0x7f84b103b3d0>]"
      ]
     },
     "execution_count": 6,
     "metadata": {},
     "output_type": "execute_result"
    },
    {
     "data": {
      "image/png": "[encoded data removed]",
      "text/plain": [
       "<Figure size 432x288 with 1 Axes>"
      ]
     },
     "metadata": {
      "needs_background": "light"
     },
     "output_type": "display_data"
    }
   ],
   "source": [
    "import matplotlib.pyplot as plt\n",
    "def gradient_descent_tri(g,alpha,max_its,w):\n",
    "    gradient = grad(g)   ## This is how you use the autograd library to find the gradient of a function  \n",
    "    weight_history = [w]\n",
    "    curr_array = w\n",
    "    starting_cost = g(curr_array)\n",
    "    cost_history = [starting_cost]\n",
    "    \n",
    "    for i in range(1,max_its)[::2]:\n",
    "        # define a new and previous value using a step\n",
    "        step = gradient(curr_array)\n",
    "        \n",
    "        new_w0 = curr_array[0] - alpha*step[0]\n",
    "        new_w1 = curr_array[1] - alpha*step[1]\n",
    "        new_w2 = curr_array[2] - alpha*step[2]\n",
    "        curr_tuple = [new_w0,new_w1,new_w2]\n",
    "        \n",
    "        curr_cost = g(curr_tuple)\n",
    "        weight_history.append(curr_tuple)\n",
    "        cost_history.append(curr_cost)\n",
    "    return weight_history,cost_history\n",
    "\n",
    "\n",
    "def g(w):\n",
    "    g = (2*w[0]**2)+(w[1]**2)+(4*w[2]**2)\n",
    "    return g\n",
    "\n",
    "\n",
    "w = [5.0,5.0,5.0]\n",
    "\n",
    "run_one = gradient_descent_tri(g,0.1,100,np.array(w))\n",
    "plt.plot(run_one[1],color='red')\n",
    "\n",
    "run_two = gradient_descent_tri(g,1,100,np.array(w))\n",
    "plt.plot(run_two[1],color='blue')\n",
    "\n",
    "run_three = gradient_descent_tri(g,5,100,np.array(w))\n",
    "plt.plot(run_three[1],color='green')\n",
    "\n",
    "run_four = gradient_descent_tri(g,10,100,np.array(w))\n",
    "plt.plot(run_four[1],color='purple')\n",
    "\n",
    "run_five = gradient_descent_tri(g,15,100,np.array(w))\n",
    "plt.plot(run_five[1],color='yellow')"
   ]
  },
  {
   "cell_type": "markdown",
   "metadata": {},
   "source": [
    "Researching more about the autograd library I found an optimization package referenced at the link attatched (https://autograd.readthedocs.io/en/latest/usage.html?highlight=grad#multiple-variables)"
   ]
  },
  {
   "cell_type": "markdown",
   "metadata": {},
   "source": [
    "https://towardsdatascience.com/how-to-implement-an-adam-optimizer-from-scratch-76e7b217f1cc"
   ]
  }
 ],
 "metadata": {
  "kernelspec": {
   "display_name": "Python 3 (ipykernel)",
   "language": "python",
   "name": "python3"
  },
  "language_info": {
   "codemirror_mode": {
    "name": "ipython",
    "version": 3
   },
   "file_extension": ".py",
   "mimetype": "text/x-python",
   "name": "python",
   "nbconvert_exporter": "python",
   "pygments_lexer": "ipython3",
   "version": "3.8.8"
  }
 },
 "nbformat": 4,
 "nbformat_minor": 2
}
